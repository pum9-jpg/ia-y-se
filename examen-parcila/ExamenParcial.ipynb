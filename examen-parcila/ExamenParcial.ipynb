{
  "nbformat": 4,
  "nbformat_minor": 0,
  "metadata": {
    "colab": {
      "provenance": []
    },
    "kernelspec": {
      "name": "python3",
      "display_name": "Python 3"
    },
    "language_info": {
      "name": "python"
    }
  },
  "cells": [
    {
      "cell_type": "markdown",
      "source": [
        "# ================================================================\n",
        "# Examen Parcial - Procesamiento de Lenguaje Natural\n",
        "## Alumno: Mamani Zapata Samuel\n",
        "## Tema: Análisis Morfológico con NLTK (adaptado con spaCy)\n",
        "## Herramientas: Python, NLTK, spaCy, Google Colab\n",
        "# ================================================================\n",
        "\n",
        "# Nota: El modelo POS original de NLTK para español no está disponible,\n",
        "# por lo tanto se utiliza spaCy para el análisis morfológico.\n",
        "\n",
        "    Realiza un análisis morfológico completo de una oración en español.\n",
        "\n",
        "    Args:\n",
        "        oracion (str): Texto en español a analizar.\n",
        "\n",
        "    Returns:\n",
        "        dict: Diccionario con:\n",
        "            - total_tokens: número total de tokens\n",
        "            - total_tipos: número de tipos únicos\n",
        "            - ratio_tt: relación tipo-token (tipos/tokens)\n",
        "            - pos_tags: lista de tuplas (palabra, etiqueta_POS)\n",
        "  \n"
      ],
      "metadata": {
        "id": "8WDcnlSrv9VR"
      }
    },
    {
      "cell_type": "markdown",
      "source": [
        "# ------------------------------------------------------------\n",
        "# Instalación y configuración del entorno\n",
        "# ------------------------------------------------------------"
      ],
      "metadata": {
        "id": "aJsejBz1z_L9"
      }
    },
    {
      "cell_type": "code",
      "source": [
        "# Instalación de dependencias\n",
        "!pip install -q spacy\n",
        "\n",
        "# Descarga del modelo en español\n",
        "!python -m spacy download es_core_news_sm\n",
        "\n",
        "# Importación de librerías\n",
        "import nltk\n",
        "import spacy\n",
        "\n",
        "# Descarga de recursos de tokenización de NLTK\n",
        "nltk.download('punkt')\n",
        "nltk.download('punkt_tab')\n",
        "\n",
        "# Carga del modelo en español de spaCy\n",
        "nlp = spacy.load(\"es_core_news_sm\")\n",
        "\n",
        "print(\"✅ Entorno configurado correctamente.\")\n"
      ],
      "metadata": {
        "colab": {
          "base_uri": "https://localhost:8080/"
        },
        "id": "juJ3rhljwE0y",
        "outputId": "ce47aafe-71c5-4e4d-e6f5-d0a9eb3bc963"
      },
      "execution_count": 8,
      "outputs": [
        {
          "output_type": "stream",
          "name": "stdout",
          "text": [
            "Collecting es-core-news-sm==3.8.0\n",
            "  Downloading https://github.com/explosion/spacy-models/releases/download/es_core_news_sm-3.8.0/es_core_news_sm-3.8.0-py3-none-any.whl (12.9 MB)\n",
            "\u001b[?25l     \u001b[90m━━━━━━━━━━━━━━━━━━━━━━━━━━━━━━━━━━━━━━━━\u001b[0m \u001b[32m0.0/12.9 MB\u001b[0m \u001b[31m?\u001b[0m eta \u001b[36m-:--:--\u001b[0m\r\u001b[2K     \u001b[91m━━━━━━━━━━━━━━\u001b[0m\u001b[90m╺\u001b[0m\u001b[90m━━━━━━━━━━━━━━━━━━━━━━━━━\u001b[0m \u001b[32m4.6/12.9 MB\u001b[0m \u001b[31m140.1 MB/s\u001b[0m eta \u001b[36m0:00:01\u001b[0m\r\u001b[2K     \u001b[91m━━━━━━━━━━━━━━━━━━━━━━━━━━━━━━━━━━━\u001b[0m\u001b[90m╺\u001b[0m\u001b[90m━━━\u001b[0m \u001b[32m11.6/12.9 MB\u001b[0m \u001b[31m180.9 MB/s\u001b[0m eta \u001b[36m0:00:01\u001b[0m\r\u001b[2K     \u001b[91m━━━━━━━━━━━━━━━━━━━━━━━━━━━━━━━━━━━━━━\u001b[0m\u001b[91m╸\u001b[0m \u001b[32m12.9/12.9 MB\u001b[0m \u001b[31m182.7 MB/s\u001b[0m eta \u001b[36m0:00:01\u001b[0m\r\u001b[2K     \u001b[90m━━━━━━━━━━━━━━━━━━━━━━━━━━━━━━━━━━━━━━━\u001b[0m \u001b[32m12.9/12.9 MB\u001b[0m \u001b[31m104.2 MB/s\u001b[0m eta \u001b[36m0:00:00\u001b[0m\n",
            "\u001b[?25h\u001b[38;5;2m✔ Download and installation successful\u001b[0m\n",
            "You can now load the package via spacy.load('es_core_news_sm')\n",
            "\u001b[38;5;3m⚠ Restart to reload dependencies\u001b[0m\n",
            "If you are in a Jupyter or Colab notebook, you may need to restart Python in\n",
            "order to load all the package's dependencies. You can do this by selecting the\n",
            "'Restart kernel' or 'Restart runtime' option.\n"
          ]
        },
        {
          "output_type": "stream",
          "name": "stderr",
          "text": [
            "[nltk_data] Downloading package punkt to /root/nltk_data...\n",
            "[nltk_data]   Package punkt is already up-to-date!\n",
            "[nltk_data] Downloading package punkt_tab to /root/nltk_data...\n",
            "[nltk_data]   Package punkt_tab is already up-to-date!\n"
          ]
        },
        {
          "output_type": "stream",
          "name": "stdout",
          "text": [
            "✅ Entorno configurado correctamente.\n"
          ]
        }
      ]
    },
    {
      "cell_type": "markdown",
      "source": [
        "# ------------------------------------------------------------\n",
        "# Implementación de la función principal\n",
        "# ------------------------------------------------------------"
      ],
      "metadata": {
        "id": "tTrS9AGcz-bH"
      }
    },
    {
      "cell_type": "code",
      "source": [
        "def analisis_morfologico(oracion):\n",
        "\n",
        "\n",
        "    # Procesamiento del texto con spaCy\n",
        "    doc = nlp(oracion)\n",
        "\n",
        "    # Tokenización\n",
        "    tokens = [token.text for token in doc]\n",
        "\n",
        "    # Cálculos básicos\n",
        "    total_tokens = len(tokens)\n",
        "    total_tipos = len(set(tokens))\n",
        "    ratio_tt = round(total_tipos / total_tokens, 3)\n",
        "\n",
        "    # Etiquetado gramatical (POS)\n",
        "    pos_tags = [(token.text, token.pos_) for token in doc]\n",
        "\n",
        "    # Diccionario de salida\n",
        "    resultado = {\n",
        "        'total_tokens': total_tokens,\n",
        "        'total_tipos': total_tipos,\n",
        "        'ratio_tt': ratio_tt,\n",
        "        'pos_tags': pos_tags\n",
        "    }\n",
        "\n",
        "    return resultado\n"
      ],
      "metadata": {
        "id": "TTZSG3tqwwsZ"
      },
      "execution_count": 9,
      "outputs": []
    },
    {
      "cell_type": "markdown",
      "source": [
        "# ------------------------------------------------------------\n",
        "# Prueba con ejemplo\n",
        "# ------------------------------------------------------------"
      ],
      "metadata": {
        "id": "MAdPFU7Cz9kh"
      }
    },
    {
      "cell_type": "code",
      "source": [
        "# Oración de ejemplo\n",
        "oracion_ejemplo = \"El gato negro salta alto y el perro corre rápido por el parque.\"\n",
        "\n",
        "# Ejecución de la función\n",
        "resultado = analisis_morfologico(oracion_ejemplo)\n",
        "\n",
        "# Presentación de resultados\n",
        "print(\"=== RESULTADOS DEL ANÁLISIS MORFOLÓGICO ===\")\n",
        "print(f\"Total de tokens: {resultado['total_tokens']}\")\n",
        "print(f\"Total de tipos: {resultado['total_tipos']}\")\n",
        "print(f\"Ratio tipo-token: {resultado['ratio_tt']}\")\n",
        "print(\"\\nEtiquetas POS:\")\n",
        "for palabra, etiqueta in resultado['pos_tags']:\n",
        "    print(f\"{palabra:10} --> {etiqueta}\")\n"
      ],
      "metadata": {
        "colab": {
          "base_uri": "https://localhost:8080/"
        },
        "id": "ieXsvldhxH55",
        "outputId": "6bbb4d5d-27e0-4e33-8a17-b7c8bf468630"
      },
      "execution_count": 10,
      "outputs": [
        {
          "output_type": "stream",
          "name": "stdout",
          "text": [
            "=== RESULTADOS DEL ANÁLISIS MORFOLÓGICO ===\n",
            "Total de tokens: 14\n",
            "Total de tipos: 13\n",
            "Ratio tipo-token: 0.929\n",
            "\n",
            "Etiquetas POS:\n",
            "El         --> DET\n",
            "gato       --> NOUN\n",
            "negro      --> ADJ\n",
            "salta      --> NOUN\n",
            "alto       --> ADJ\n",
            "y          --> CCONJ\n",
            "el         --> DET\n",
            "perro      --> PROPN\n",
            "corre      --> VERB\n",
            "rápido     --> ADV\n",
            "por        --> ADP\n",
            "el         --> DET\n",
            "parque     --> NOUN\n",
            ".          --> PUNCT\n"
          ]
        }
      ]
    },
    {
      "cell_type": "markdown",
      "source": [
        "# ------------------------------------------------------------\n",
        "# Análisis de resultados\n",
        "# ------------------------------------------------------------"
      ],
      "metadata": {
        "id": "QnXuGCxLzFIH"
      }
    },
    {
      "cell_type": "code",
      "source": [
        "\n",
        "\n",
        "print(\"=== ANÁLISIS DE RESULTADOS ===\\n\")\n",
        "\n",
        "print(f\"La oración analizada contiene un total de {resultado['total_tokens']} tokens, \"\n",
        "      f\"de los cuales {resultado['total_tipos']} son tipos únicos (palabras diferentes).\")\n",
        "\n",
        "print(f\"El ratio tipo-token (TTR) obtenido es de {resultado['ratio_tt']}, \"\n",
        "      \"lo que indica el grado de diversidad léxica del texto.\\n\")\n",
        "\n",
        "print(\"El análisis morfológico también asignó correctamente las etiquetas gramaticales (POS),\")\n",
        "print(\"identificando categorías como sustantivos (NOUN), verbos (VERB), adjetivos (ADJ),\")\n",
        "print(\"adverbios (ADV), determinantes (DET), conjunciones (CCONJ) y preposiciones (ADP).\")\n",
        "\n",
        "print(\"\\nEn resumen:\")\n",
        "print(f\"- Total de palabras analizadas (tokens): {resultado['total_tokens']}\")\n",
        "print(f\"- Palabras únicas (tipos): {resultado['total_tipos']}\")\n",
        "print(f\"- Ratio tipo-token: {resultado['ratio_tt']}\")\n",
        "print(\"\\nEl modelo spaCy para español demuestra un desempeño adecuado para la tarea de análisis morfológico, \"\n",
        "      \"ya que detecta correctamente las partes del discurso en la oración proporcionada.\")\n"
      ],
      "metadata": {
        "colab": {
          "base_uri": "https://localhost:8080/"
        },
        "id": "Qlv8wIoIy9NJ",
        "outputId": "1f8559fa-540e-4a23-fccd-d3b6a17b4aaf"
      },
      "execution_count": 11,
      "outputs": [
        {
          "output_type": "stream",
          "name": "stdout",
          "text": [
            "=== ANÁLISIS DE RESULTADOS ===\n",
            "\n",
            "La oración analizada contiene un total de 14 tokens, de los cuales 13 son tipos únicos (palabras diferentes).\n",
            "El ratio tipo-token (TTR) obtenido es de 0.929, lo que indica el grado de diversidad léxica del texto.\n",
            "\n",
            "El análisis morfológico también asignó correctamente las etiquetas gramaticales (POS),\n",
            "identificando categorías como sustantivos (NOUN), verbos (VERB), adjetivos (ADJ),\n",
            "adverbios (ADV), determinantes (DET), conjunciones (CCONJ) y preposiciones (ADP).\n",
            "\n",
            "En resumen:\n",
            "- Total de palabras analizadas (tokens): 14\n",
            "- Palabras únicas (tipos): 13\n",
            "- Ratio tipo-token: 0.929\n",
            "\n",
            "El modelo spaCy para español demuestra un desempeño adecuado para la tarea de análisis morfológico, ya que detecta correctamente las partes del discurso en la oración proporcionada.\n"
          ]
        }
      ]
    }
  ]
}