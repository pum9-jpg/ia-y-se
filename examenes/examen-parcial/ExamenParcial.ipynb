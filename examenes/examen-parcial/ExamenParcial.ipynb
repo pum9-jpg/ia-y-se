{
  "nbformat": 4,
  "nbformat_minor": 0,
  "metadata": {
    "colab": {
      "provenance": []
    },
    "kernelspec": {
      "name": "python3",
      "display_name": "Python 3"
    },
    "language_info": {
      "name": "python"
    }
  },
  "cells": [
    {
      "cell_type": "code",
      "source": [
        "!pip install -q nltk\n",
        "import nltk\n",
        "nltk.download('punkt')\n",
        "nltk.download('punkt_tab')\n",
        "nltk.download('cess_esp')   # corpus UD español"
      ],
      "metadata": {
        "colab": {
          "base_uri": "https://localhost:8080/"
        },
        "id": "Dy2TzeXII91p",
        "outputId": "89c729ed-2bfa-4c10-82eb-d0c4f763b230"
      },
      "execution_count": 18,
      "outputs": [
        {
          "output_type": "stream",
          "name": "stderr",
          "text": [
            "[nltk_data] Downloading package punkt to /root/nltk_data...\n",
            "[nltk_data]   Package punkt is already up-to-date!\n",
            "[nltk_data] Downloading package punkt_tab to /root/nltk_data...\n",
            "[nltk_data]   Package punkt_tab is already up-to-date!\n",
            "[nltk_data] Downloading package cess_esp to /root/nltk_data...\n",
            "[nltk_data]   Unzipping corpora/cess_esp.zip.\n"
          ]
        },
        {
          "output_type": "execute_result",
          "data": {
            "text/plain": [
              "True"
            ]
          },
          "metadata": {},
          "execution_count": 18
        }
      ]
    },
    {
      "cell_type": "code",
      "source": [
        "from nltk import word_tokenize\n",
        "from nltk.corpus import cess_esp\n",
        "from nltk.tag import UnigramTagger\n",
        "\n",
        "# entrenamos un tagger con el corpus español\n",
        "tagger = UnigramTagger(cess_esp.tagged_sents())\n",
        "\n",
        "def analisis_morfologico(oracion):\n",
        "    \"\"\"\n",
        "    Realiza análisis morfológico completo de una oración en español.\n",
        "    Args:\n",
        "        oracion (str): Texto en español a analizar\n",
        "    Returns:\n",
        "        dict: tokens, tipos, ratio TT y POS tags\n",
        "    \"\"\"\n",
        "    tokens = word_tokenize(oracion, language='spanish')\n",
        "    total_tokens = len(tokens)\n",
        "    total_tipos  = len(set(tokens))          # case-sensitive\n",
        "    ratio_tt     = round(total_tipos / total_tokens, 3)\n",
        "    pos_tags     = tagger.tag(tokens)\n",
        "    return {\n",
        "        'total_tokens': total_tokens,\n",
        "        'total_tipos':  total_tipos,\n",
        "        'ratio_tt':     ratio_tt,\n",
        "        'pos_tags':     pos_tags\n",
        "    }"
      ],
      "metadata": {
        "id": "ilkKoNTnJAA-"
      },
      "execution_count": 19,
      "outputs": []
    },
    {
      "cell_type": "code",
      "source": [
        "oracion_nueva = \"La niña lee un libro grande en la biblioteca mientras su hermano juega afuera.\"\n",
        "print(analisis_morfologico(oracion_nueva))"
      ],
      "metadata": {
        "colab": {
          "base_uri": "https://localhost:8080/"
        },
        "id": "YEL41NIXJFEr",
        "outputId": "417fc6a6-ea1e-449c-d94c-13e5c6fcc60f"
      },
      "execution_count": 20,
      "outputs": [
        {
          "output_type": "stream",
          "name": "stdout",
          "text": [
            "{'total_tokens': 15, 'total_tipos': 15, 'ratio_tt': 1.0, 'pos_tags': [('La', 'da0fs0'), ('niña', 'ncfs000'), ('lee', 'vmip3s0'), ('un', 'di0ms0'), ('libro', 'ncms000'), ('grande', 'aq0cs0'), ('en', 'sps00'), ('la', 'da0fs0'), ('biblioteca', 'ncfs000'), ('mientras', 'cs'), ('su', 'dp3cs0'), ('hermano', 'ncms000'), ('juega', 'vmip3s0'), ('afuera', None), ('.', 'Fp')]}\n"
          ]
        }
      ]
    }
  ]
}