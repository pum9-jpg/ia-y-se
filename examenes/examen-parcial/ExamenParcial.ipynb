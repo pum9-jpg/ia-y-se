{
  "nbformat": 4,
  "nbformat_minor": 0,
  "metadata": {
    "colab": {
      "provenance": []
    },
    "kernelspec": {
      "name": "python3",
      "display_name": "Python 3"
    },
    "language_info": {
      "name": "python"
    }
  },
  "cells": [
    {
      "cell_type": "markdown",
      "source": [
        "# Examen: Análisis Morfológico con NLTK\n",
        "## Información del Examen\n",
        "**Materia:** Procesamiento de Lenguaje Natural\n",
        "\n",
        "**Herramientas:** Python, NLTK, Google Colab\n",
        "\n",
        "**Duración estimada:** 45 minutos\n",
        "\n",
        "**Dificultad:** Intermedia"
      ],
      "metadata": {
        "id": "R77pd8P_JTcp"
      }
    },
    {
      "cell_type": "markdown",
      "source": [
        "\n",
        "## Instrucciones tecnicas\n",
        "1. Crear una rama ``` git checkout -b QuelaliGaston/ExamenParcial ```\n",
        "2. Subir el cuaderno (archivo) con el nombre `ExamenParcial.ipynb` dentro de la carpeta `examen-parcila` en tu rama.\n",
        "## Instrucciones Generales\n",
        "1. Implemente la función solicitada en Google Colab\n",
        "2. Use únicamente las bibliotecas especificadas\n",
        "3. Comente su código adecuadamente\n",
        "4. Pruebe con los casos de prueba proporcionados\n",
        "5. Prepare un breve análisis de los resultados"
      ],
      "metadata": {
        "id": "814t67VrJKP6"
      }
    },
    {
      "cell_type": "markdown",
      "source": [
        "## Ejercicio practico: Análisis Morfológico\n",
        "### Enunciado Completo\n",
        "Implemente una función `analisis_morfologico(oracion)` que reciba una cadena de texto en español y retorne un diccionario con la siguiente información:\n",
        "- **total_tokens**: número total de tokens en la oración\n",
        "- **total_tipos**: número de tipos únicos (vocabulario)\n",
        "- **ratio_tt**: ratio tipo-token (tipos/tokens) redondeado a 3 decimales\n",
        "- **pos_tags**: lista de tuplas (palabra, etiqueta_POS) para cada token\n",
        "\n"
      ],
      "metadata": {
        "id": "tP2BktWZH7t9"
      }
    },
    {
      "cell_type": "markdown",
      "source": [
        "## Preparacion del entorno\n",
        "\n",
        "---\n",
        "\n"
      ],
      "metadata": {
        "id": "v1aGSYQXK6Nm"
      }
    },
    {
      "cell_type": "markdown",
      "source": [
        "### codigo base para implementar"
      ],
      "metadata": {
        "id": "te9k9xqqMQLp"
      }
    },
    {
      "cell_type": "code",
      "source": [
        "!pip install spacy\n",
        "!python -m spacy download es_core_news_sm"
      ],
      "metadata": {
        "colab": {
          "base_uri": "https://localhost:8080/"
        },
        "id": "1hP5c-x3Q_fR",
        "outputId": "e9220ecc-2f5e-48d4-fc15-09d628b0e7bc"
      },
      "execution_count": 21,
      "outputs": [
        {
          "output_type": "stream",
          "name": "stdout",
          "text": [
            "Requirement already satisfied: spacy in /usr/local/lib/python3.12/dist-packages (3.8.7)\n",
            "Requirement already satisfied: spacy-legacy<3.1.0,>=3.0.11 in /usr/local/lib/python3.12/dist-packages (from spacy) (3.0.12)\n",
            "Requirement already satisfied: spacy-loggers<2.0.0,>=1.0.0 in /usr/local/lib/python3.12/dist-packages (from spacy) (1.0.5)\n",
            "Requirement already satisfied: murmurhash<1.1.0,>=0.28.0 in /usr/local/lib/python3.12/dist-packages (from spacy) (1.0.13)\n",
            "Requirement already satisfied: cymem<2.1.0,>=2.0.2 in /usr/local/lib/python3.12/dist-packages (from spacy) (2.0.11)\n",
            "Requirement already satisfied: preshed<3.1.0,>=3.0.2 in /usr/local/lib/python3.12/dist-packages (from spacy) (3.0.10)\n",
            "Requirement already satisfied: thinc<8.4.0,>=8.3.4 in /usr/local/lib/python3.12/dist-packages (from spacy) (8.3.6)\n",
            "Requirement already satisfied: wasabi<1.2.0,>=0.9.1 in /usr/local/lib/python3.12/dist-packages (from spacy) (1.1.3)\n",
            "Requirement already satisfied: srsly<3.0.0,>=2.4.3 in /usr/local/lib/python3.12/dist-packages (from spacy) (2.5.1)\n",
            "Requirement already satisfied: catalogue<2.1.0,>=2.0.6 in /usr/local/lib/python3.12/dist-packages (from spacy) (2.0.10)\n",
            "Requirement already satisfied: weasel<0.5.0,>=0.1.0 in /usr/local/lib/python3.12/dist-packages (from spacy) (0.4.1)\n",
            "Requirement already satisfied: typer<1.0.0,>=0.3.0 in /usr/local/lib/python3.12/dist-packages (from spacy) (0.19.2)\n",
            "Requirement already satisfied: tqdm<5.0.0,>=4.38.0 in /usr/local/lib/python3.12/dist-packages (from spacy) (4.67.1)\n",
            "Requirement already satisfied: numpy>=1.19.0 in /usr/local/lib/python3.12/dist-packages (from spacy) (2.0.2)\n",
            "Requirement already satisfied: requests<3.0.0,>=2.13.0 in /usr/local/lib/python3.12/dist-packages (from spacy) (2.32.4)\n",
            "Requirement already satisfied: pydantic!=1.8,!=1.8.1,<3.0.0,>=1.7.4 in /usr/local/lib/python3.12/dist-packages (from spacy) (2.11.9)\n",
            "Requirement already satisfied: jinja2 in /usr/local/lib/python3.12/dist-packages (from spacy) (3.1.6)\n",
            "Requirement already satisfied: setuptools in /usr/local/lib/python3.12/dist-packages (from spacy) (75.2.0)\n",
            "Requirement already satisfied: packaging>=20.0 in /usr/local/lib/python3.12/dist-packages (from spacy) (25.0)\n",
            "Requirement already satisfied: langcodes<4.0.0,>=3.2.0 in /usr/local/lib/python3.12/dist-packages (from spacy) (3.5.0)\n",
            "Requirement already satisfied: language-data>=1.2 in /usr/local/lib/python3.12/dist-packages (from langcodes<4.0.0,>=3.2.0->spacy) (1.3.0)\n",
            "Requirement already satisfied: annotated-types>=0.6.0 in /usr/local/lib/python3.12/dist-packages (from pydantic!=1.8,!=1.8.1,<3.0.0,>=1.7.4->spacy) (0.7.0)\n",
            "Requirement already satisfied: pydantic-core==2.33.2 in /usr/local/lib/python3.12/dist-packages (from pydantic!=1.8,!=1.8.1,<3.0.0,>=1.7.4->spacy) (2.33.2)\n",
            "Requirement already satisfied: typing-extensions>=4.12.2 in /usr/local/lib/python3.12/dist-packages (from pydantic!=1.8,!=1.8.1,<3.0.0,>=1.7.4->spacy) (4.15.0)\n",
            "Requirement already satisfied: typing-inspection>=0.4.0 in /usr/local/lib/python3.12/dist-packages (from pydantic!=1.8,!=1.8.1,<3.0.0,>=1.7.4->spacy) (0.4.2)\n",
            "Requirement already satisfied: charset_normalizer<4,>=2 in /usr/local/lib/python3.12/dist-packages (from requests<3.0.0,>=2.13.0->spacy) (3.4.3)\n",
            "Requirement already satisfied: idna<4,>=2.5 in /usr/local/lib/python3.12/dist-packages (from requests<3.0.0,>=2.13.0->spacy) (3.10)\n",
            "Requirement already satisfied: urllib3<3,>=1.21.1 in /usr/local/lib/python3.12/dist-packages (from requests<3.0.0,>=2.13.0->spacy) (2.5.0)\n",
            "Requirement already satisfied: certifi>=2017.4.17 in /usr/local/lib/python3.12/dist-packages (from requests<3.0.0,>=2.13.0->spacy) (2025.8.3)\n",
            "Requirement already satisfied: blis<1.4.0,>=1.3.0 in /usr/local/lib/python3.12/dist-packages (from thinc<8.4.0,>=8.3.4->spacy) (1.3.0)\n",
            "Requirement already satisfied: confection<1.0.0,>=0.0.1 in /usr/local/lib/python3.12/dist-packages (from thinc<8.4.0,>=8.3.4->spacy) (0.1.5)\n",
            "Requirement already satisfied: click>=8.0.0 in /usr/local/lib/python3.12/dist-packages (from typer<1.0.0,>=0.3.0->spacy) (8.3.0)\n",
            "Requirement already satisfied: shellingham>=1.3.0 in /usr/local/lib/python3.12/dist-packages (from typer<1.0.0,>=0.3.0->spacy) (1.5.4)\n",
            "Requirement already satisfied: rich>=10.11.0 in /usr/local/lib/python3.12/dist-packages (from typer<1.0.0,>=0.3.0->spacy) (13.9.4)\n",
            "Requirement already satisfied: cloudpathlib<1.0.0,>=0.7.0 in /usr/local/lib/python3.12/dist-packages (from weasel<0.5.0,>=0.1.0->spacy) (0.22.0)\n",
            "Requirement already satisfied: smart-open<8.0.0,>=5.2.1 in /usr/local/lib/python3.12/dist-packages (from weasel<0.5.0,>=0.1.0->spacy) (7.3.1)\n",
            "Requirement already satisfied: MarkupSafe>=2.0 in /usr/local/lib/python3.12/dist-packages (from jinja2->spacy) (3.0.3)\n",
            "Requirement already satisfied: marisa-trie>=1.1.0 in /usr/local/lib/python3.12/dist-packages (from language-data>=1.2->langcodes<4.0.0,>=3.2.0->spacy) (1.3.1)\n",
            "Requirement already satisfied: markdown-it-py>=2.2.0 in /usr/local/lib/python3.12/dist-packages (from rich>=10.11.0->typer<1.0.0,>=0.3.0->spacy) (4.0.0)\n",
            "Requirement already satisfied: pygments<3.0.0,>=2.13.0 in /usr/local/lib/python3.12/dist-packages (from rich>=10.11.0->typer<1.0.0,>=0.3.0->spacy) (2.19.2)\n",
            "Requirement already satisfied: wrapt in /usr/local/lib/python3.12/dist-packages (from smart-open<8.0.0,>=5.2.1->weasel<0.5.0,>=0.1.0->spacy) (1.17.3)\n",
            "Requirement already satisfied: mdurl~=0.1 in /usr/local/lib/python3.12/dist-packages (from markdown-it-py>=2.2.0->rich>=10.11.0->typer<1.0.0,>=0.3.0->spacy) (0.1.2)\n",
            "Collecting es-core-news-sm==3.8.0\n",
            "  Downloading https://github.com/explosion/spacy-models/releases/download/es_core_news_sm-3.8.0/es_core_news_sm-3.8.0-py3-none-any.whl (12.9 MB)\n",
            "\u001b[2K     \u001b[90m━━━━━━━━━━━━━━━━━━━━━━━━━━━━━━━━━━━━━━━━\u001b[0m \u001b[32m12.9/12.9 MB\u001b[0m \u001b[31m94.6 MB/s\u001b[0m eta \u001b[36m0:00:00\u001b[0m\n",
            "\u001b[?25hInstalling collected packages: es-core-news-sm\n",
            "Successfully installed es-core-news-sm-3.8.0\n",
            "\u001b[38;5;2m✔ Download and installation successful\u001b[0m\n",
            "You can now load the package via spacy.load('es_core_news_sm')\n",
            "\u001b[38;5;3m⚠ Restart to reload dependencies\u001b[0m\n",
            "If you are in a Jupyter or Colab notebook, you may need to restart Python in\n",
            "order to load all the package's dependencies. You can do this by selecting the\n",
            "'Restart kernel' or 'Restart runtime' option.\n"
          ]
        }
      ]
    },
    {
      "cell_type": "code",
      "source": [
        "# 1. Preparación del entorno\n",
        "import spacy"
      ],
      "metadata": {
        "id": "ccGcdvK_QLTX"
      },
      "execution_count": 22,
      "outputs": []
    },
    {
      "cell_type": "code",
      "source": [
        "# Cargar modelo de español\n",
        "nlp = spacy.load(\"es_core_news_sm\")"
      ],
      "metadata": {
        "id": "P6SWlZcgQOS4"
      },
      "execution_count": 23,
      "outputs": []
    },
    {
      "cell_type": "code",
      "source": [
        "def analisis_morfologico_spacy(oracion):\n",
        "    doc = nlp(oracion)\n",
        "\n",
        "    tokens = [token.text for token in doc]\n",
        "    pos_tags = [(token.text, token.pos_) for token in doc]\n",
        "\n",
        "    total_tokens = len(tokens)\n",
        "    total_tipos = len(set(tokens))\n",
        "    ratio_tt = round(total_tipos / total_tokens, 3)\n",
        "\n",
        "    return {\n",
        "        \"Tokens\": tokens,\n",
        "        \"Total Tokens\": total_tokens,\n",
        "        \"Tipos\": total_tipos,\n",
        "        \"Ratio TT\": ratio_tt,\n",
        "        \"POS Tags\": pos_tags\n",
        "    }\n",
        "\n",
        "oracion = \"El gato negro salta alto y el perro corre rápido por el parque.\"\n",
        "resultado = analisis_morfologico_spacy(oracion)\n",
        "\n",
        "print(\"🔹 Tokens:\", resultado[\"Tokens\"])\n",
        "print(\"🔹 Total de Tokens:\", resultado[\"Total Tokens\"])\n",
        "print(\"🔹 Tipos únicos:\", resultado[\"Tipos\"])\n",
        "print(\"🔹 Ratio TT:\", resultado[\"Ratio TT\"])\n",
        "print(\"🔹 Etiquetas POS:\")\n",
        "for palabra, etiqueta in resultado[\"POS Tags\"]:\n",
        "    print(f\"   {palabra} → {etiqueta}\")"
      ],
      "metadata": {
        "colab": {
          "base_uri": "https://localhost:8080/"
        },
        "id": "3QBZLdlERNZB",
        "outputId": "8c85f54e-274e-4dd5-aa7b-744b25766b06"
      },
      "execution_count": 27,
      "outputs": [
        {
          "output_type": "stream",
          "name": "stdout",
          "text": [
            "🔹 Tokens: ['El', 'gato', 'negro', 'salta', 'alto', 'y', 'el', 'perro', 'corre', 'rápido', 'por', 'el', 'parque', '.']\n",
            "🔹 Total de Tokens: 14\n",
            "🔹 Tipos únicos: 13\n",
            "🔹 Ratio TT: 0.929\n",
            "🔹 Etiquetas POS:\n",
            "   El → DET\n",
            "   gato → NOUN\n",
            "   negro → ADJ\n",
            "   salta → NOUN\n",
            "   alto → ADJ\n",
            "   y → CCONJ\n",
            "   el → DET\n",
            "   perro → PROPN\n",
            "   corre → VERB\n",
            "   rápido → ADV\n",
            "   por → ADP\n",
            "   el → DET\n",
            "   parque → NOUN\n",
            "   . → PUNCT\n"
          ]
        }
      ]
    },
    {
      "cell_type": "markdown",
      "source": [
        "## **Funciones a utilizar:**\n",
        "\n",
        "nltk.word_tokenize() para tokenización en español\n",
        "\n",
        "nltk.pos_tag() para etiquetado POS"
      ],
      "metadata": {
        "id": "n5Rg7v4wMbMQ"
      }
    },
    {
      "cell_type": "markdown",
      "source": [
        "## **Cálculos requeridos:**\n",
        "**Tokens:** Conteo de todos los elementos tokenizados\n",
        "\n",
        "**Tipos:** Conteo de elementos únicos (case-sensitive)\n",
        "\n",
        "**Ratio TT:** total_tipos / total_tokens (redondeado a 3 decimales)"
      ],
      "metadata": {
        "id": "FXVFpMFcMlZI"
      }
    }
  ]
}