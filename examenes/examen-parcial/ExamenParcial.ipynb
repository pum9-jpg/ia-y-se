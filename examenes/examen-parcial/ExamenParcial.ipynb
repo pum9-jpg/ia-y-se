{
  "nbformat": 4,
  "nbformat_minor": 0,
  "metadata": {
    "colab": {
      "provenance": []
    },
    "kernelspec": {
      "name": "python3",
      "display_name": "Python 3"
    },
    "language_info": {
      "name": "python"
    }
  },
  "cells": [
    {
      "cell_type": "code",
      "execution_count": 11,
      "metadata": {
        "colab": {
          "base_uri": "https://localhost:8080/"
        },
        "id": "Hx2B020oIb2v",
        "outputId": "ef2064a7-ca06-4ff1-d92e-6801dd31f25b"
      },
      "outputs": [
        {
          "output_type": "stream",
          "name": "stderr",
          "text": [
            "[nltk_data] Downloading package punkt to /root/nltk_data...\n",
            "[nltk_data]   Package punkt is already up-to-date!\n",
            "[nltk_data] Downloading package cess_esp to /root/nltk_data...\n",
            "[nltk_data]   Package cess_esp is already up-to-date!\n"
          ]
        },
        {
          "output_type": "stream",
          "name": "stdout",
          "text": [
            "{'total_tokens': 14, 'total_tipos': 13, 'ratio_tt': 0.929, 'pos_tags': [('El', 'DET'), ('gato', 'NOUN'), ('negro', 'ADJ'), ('salta', 'NOUN'), ('alto', 'ADJ'), ('y', 'CCONJ'), ('el', 'DET'), ('perro', 'NOUN'), ('corre', 'VERB'), ('rápido', 'ADJ'), ('por', 'ADP'), ('el', 'DET'), ('parque', 'NOUN'), ('.', 'Fp')]}\n"
          ]
        }
      ],
      "source": [
        "# ================================\n",
        "# Examen Parcial - Procesamiento de Lenguaje Natural\n",
        "# Alumno: RUSSELL EDWIN ROCHA RICALDEZ\n",
        "# Ejercicio: Analisis Morfologico con NLTK (español usando CESS-ESP)\n",
        "# ================================\n",
        "\n",
        "import nltk\n",
        "from nltk.corpus import cess_esp\n",
        "from nltk.tag import UnigramTagger, DefaultTagger\n",
        "from nltk.tokenize import word_tokenize\n",
        "\n",
        "# Descargas necesarias\n",
        "nltk.download('punkt')       # Tokenizador\n",
        "nltk.download('cess_esp')    # Corpus (datos) anotado en español\n",
        "\n",
        "# Entrenamiento del etiquetador POS en español ya que NLTK NO tiene un etiquetador\n",
        "# en español como tal solo en ingles y es la unica forma de cumplir con los requisitos del examen\n",
        "tagged_sents = cess_esp.tagged_sents()\n",
        "\n",
        "# Dividir corpus en entrenamiento (80%) y prueba (20%)\n",
        "train_size = int(len(tagged_sents) * 0.8)\n",
        "train_sents = tagged_sents[:train_size]\n",
        "test_sents = tagged_sents[train_size:]\n",
        "\n",
        "# Etiquetador por defecto (si no conoce la palabra, asigna 'NC')\n",
        "default_tagger = DefaultTagger('NOUN')  # NOUN = sustantivo común por defecto\n",
        "\n",
        "# Entrenar UnigramTagger\n",
        "tagger = UnigramTagger(train_sents, backoff=default_tagger)\n",
        "\n",
        "# ----------------------------\n",
        "# Diccionario de mapeo a etiquetas simples ya que las devolvia en un formato\n",
        "# diferente al requerido en las especificaciones del examen\n",
        "# ----------------------------\n",
        "mapping = {\n",
        "    'NC': 'NOUN', 'NP': 'NOUN',\n",
        "    'VM': 'VERB', 'VMI': 'VERB', 'VMIP': 'VERB', 'VMIS': 'VERB', 'VMG': 'VERB', 'VMS': 'VERB',\n",
        "    'AQ': 'ADJ', 'aq': 'ADJ',\n",
        "    'DA': 'DET', 'da': 'DET',\n",
        "    'CC': 'CCONJ', 'cc': 'CCONJ',\n",
        "    'SP': 'ADP', 'sps': 'ADP',\n",
        "    'Fp': 'PUNCT'\n",
        "}\n",
        "\n",
        "def simplificar_tag(tag):\n",
        "    \"\"\"\n",
        "    Convierte una etiqueta del corpus CESS-ESP a una etiqueta simple tipo universal\n",
        "    \"\"\"\n",
        "    # Tomar las primeras letras significativas del tag y convertir a mayus\n",
        "    tag_prefix = tag[:2].upper()\n",
        "    return mapping.get(tag_prefix, tag)\n",
        "\n",
        "# ----------------------------\n",
        "# Función de análisis morfológico final\n",
        "# ----------------------------\n",
        "def analisis_morfologico(oracion):\n",
        "    \"\"\"\n",
        "    Realiza análisis morfológico completo de una oración en español\n",
        "    usando el corpus CESS-ESP y devuelve etiquetas simplificadas.\n",
        "\n",
        "    Args:\n",
        "        oracion (str): Texto en español a analizar.\n",
        "\n",
        "    Returns:\n",
        "        dict: Diccionario con:\n",
        "            - total_tokens: número total de tokens\n",
        "            - total_tipos: número de tipos únicos\n",
        "            - ratio_tt: relación tipo/token (redondeada a 3 decimales)\n",
        "            - pos_tags: lista de tuplas (palabra, etiqueta_POS simplificada)\n",
        "    \"\"\"\n",
        "\n",
        "    # Tokenización\n",
        "    tokens = word_tokenize(oracion, language='spanish')\n",
        "\n",
        "    # Etiquetado POS con el UnigramTagger\n",
        "    pos_tags_raw = tagger.tag(tokens)\n",
        "\n",
        "    # Simplificar etiquetas\n",
        "    pos_tags = [(w, simplificar_tag(tag)) for w, tag in pos_tags_raw]\n",
        "\n",
        "    # Estadísticas\n",
        "    total_tokens = len(tokens)\n",
        "    total_tipos = len(set(tokens))\n",
        "    ratio_tt = round(total_tipos / total_tokens, 3)\n",
        "\n",
        "    return {\n",
        "        'total_tokens': total_tokens,\n",
        "        'total_tipos': total_tipos,\n",
        "        'ratio_tt': ratio_tt,\n",
        "        'pos_tags': pos_tags\n",
        "    }\n",
        "\n",
        "# ----------------------------\n",
        "# Prueba de la función\n",
        "# ----------------------------\n",
        "oracion_ejemplo = \"El gato negro salta alto y el perro corre rápido por el parque.\"\n",
        "resultado = analisis_morfologico(oracion_ejemplo)\n",
        "print(resultado)\n"
      ]
    }
  ]
}