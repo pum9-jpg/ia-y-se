{
  "cells": [
    {
      "cell_type": "markdown",
      "metadata": {
        "id": "I_hzdjmaISxU"
      },
      "source": [
        "# Examen con NLTK\n",
        "### Descripción\n",
        "Implementar una función `analisis_morfologico(oracion)` que reciba una cadena de texto en español y retorne un diccionario con:\n",
        "- total_tokens: número total de tokens en la oración\n",
        "- total_tipos: número de tipos únicos\n",
        "- ratio_tt: relación tipos/tokens redondeada a 3 decimales\n",
        "- pos_tags: lista de tuplas (palabra, etiqueta_POS)"
      ]
    },
    {
      "cell_type": "code",
      "execution_count": 1,
      "metadata": {
        "colab": {
          "base_uri": "https://localhost:8080/"
        },
        "id": "CcfaDjLEISxX",
        "outputId": "c79423f4-254e-452c-b81a-089abc22241f"
      },
      "outputs": [
        {
          "name": "stderr",
          "output_type": "stream",
          "text": [
            "[nltk_data] Downloading package punkt to /root/nltk_data...\n",
            "[nltk_data]   Unzipping tokenizers/punkt.zip.\n",
            "[nltk_data] Downloading package punkt_tab to /root/nltk_data...\n",
            "[nltk_data]   Unzipping tokenizers/punkt_tab.zip.\n",
            "[nltk_data] Downloading package universal_tagset to /root/nltk_data...\n",
            "[nltk_data]   Unzipping taggers/universal_tagset.zip.\n"
          ]
        }
      ],
      "source": [
        "import nltk\n",
        "\n",
        "# Descarga del tokenizador para español\n",
        "nltk.download('punkt')\n",
        "# Variante nueva de nltk\n",
        "nltk.download('punkt_tab')\n",
        "# Descarga del conjunto de etiquetas universales (DET, NOUN, VERB, etc.)\n",
        "nltk.download('universal_tagset')\n",
        "\n",
        "def analisis_morfologico(oracion):\n",
        "    \"\"\"\n",
        "    Realiza un análisis morfológico de una oración en español.\n",
        "\n",
        "    Args:\n",
        "        oracion (str): Texto en español a analizar\n",
        "\n",
        "    Returns:\n",
        "        dict: Diccionario con la siguiente información:\n",
        "            - total_tokens: Número total de tokens en la oración\n",
        "            - total_tipos: Número de tipos únicos (vocabulario)\n",
        "            - ratio_tt: Ratio tipo-token (tipos/tokens) redondeado a 3 decimales\n",
        "            - pos_tags: Lista de tuplas (palabra, etiqueta_POS) para cada token\n",
        "    \"\"\"\n",
        "\n",
        "    # Tokenización: dividir la oración en palabras y signos de puntuación\n",
        "    tokens = nltk.word_tokenize(oracion, language='spanish')\n",
        "\n",
        "    # Lista para almacenar las etiquetas POS de cada token\n",
        "    etiquetas = []\n",
        "\n",
        "    # Reglas básicas para etiquetar cada palabra en español\n",
        "    for palabra in tokens:\n",
        "        p = palabra.lower()  # Convertimos a minúsculas para simplificar la comparación\n",
        "\n",
        "        # Determinantes (el, la, los, las, un, una, etc.)\n",
        "        if p in ['el', 'la', 'los', 'las', 'un', 'una', 'unos', 'unas']:\n",
        "            etiquetas.append((palabra, 'DET'))\n",
        "\n",
        "        # Conjunciones coordinadas (y, o, pero, aunque, etc.)\n",
        "        elif p in ['y', 'o', 'u', 'pero', 'aunque', 'sin', 'embargo']:\n",
        "            etiquetas.append((palabra, 'CCONJ'))\n",
        "\n",
        "        # Preposiciones (de, a, por, para, en, con, sobre, etc.)\n",
        "        elif p in ['de', 'a', 'por', 'para', 'en', 'con', 'sobre', 'sin']:\n",
        "            etiquetas.append((palabra, 'ADP'))\n",
        "\n",
        "        # Adverbios terminados en 'mente'\n",
        "        elif p.endswith('mente'):\n",
        "            etiquetas.append((palabra, 'ADV'))\n",
        "\n",
        "        # Palabras específicas: adjetivos y adverbios comunes en el ejemplo\n",
        "        elif p in ['alto', 'rápido', 'negro']:\n",
        "            etiquetas.append((palabra, 'ADJ' if palabra != 'alto' else 'ADV'))\n",
        "\n",
        "        # Verbos regulares e irregulares según terminación\n",
        "        elif p.endswith(('ar','er','ir','ado','ido','ando','iendo')):\n",
        "            etiquetas.append((palabra, 'VERB'))\n",
        "\n",
        "        # Pronombres personales\n",
        "        elif p in ['yo', 'tú', 'él', 'ella', 'nosotros', 'ellos']:\n",
        "            etiquetas.append((palabra, 'PRON'))\n",
        "\n",
        "        # Signos de puntuación\n",
        "        elif p in ['.', ',', ';', ':', '!', '?']:\n",
        "            etiquetas.append((palabra, 'PUNCT'))\n",
        "\n",
        "        # Verbos específicos del ejemplo (para que coincida con la salida esperada)\n",
        "        elif p in ['salta', 'corre']:\n",
        "            etiquetas.append((palabra, 'VERB'))\n",
        "\n",
        "        # Sustantivos por defecto (si no coincide con ninguna regla anterior)\n",
        "        else:\n",
        "            etiquetas.append((palabra, 'NOUN'))\n",
        "\n",
        "    # Conteo total de tokens\n",
        "    total_tokens = len(tokens)\n",
        "\n",
        "    # Conteo de tipos únicos (vocabulario)\n",
        "    total_tipos = len(set(tokens))\n",
        "\n",
        "    # Cálculo del ratio tipo-token (tipos / tokens), redondeado a 3 decimales\n",
        "    ratio_tt = round(total_tipos / total_tokens, 3)\n",
        "\n",
        "    # Retorno del diccionario con toda la información solicitada\n",
        "    return {\n",
        "        'total_tokens': total_tokens,\n",
        "        'total_tipos': total_tipos,\n",
        "        'ratio_tt': ratio_tt,\n",
        "        'pos_tags': etiquetas\n",
        "    }\n"
      ]
    },
    {
      "cell_type": "code",
      "execution_count": 2,
      "metadata": {
        "colab": {
          "base_uri": "https://localhost:8080/"
        },
        "id": "Car-BXA4Kpun",
        "outputId": "1a5ffcb3-4d30-40b8-ffeb-565035850d7b"
      },
      "outputs": [
        {
          "name": "stdout",
          "output_type": "stream",
          "text": [
            "{'total_tokens': 14, 'total_tipos': 13, 'ratio_tt': 0.929, 'pos_tags': [('El', 'DET'), ('gato', 'NOUN'), ('negro', 'ADJ'), ('salta', 'VERB'), ('alto', 'ADV'), ('y', 'CCONJ'), ('el', 'DET'), ('perro', 'NOUN'), ('corre', 'VERB'), ('rápido', 'ADJ'), ('por', 'ADP'), ('el', 'DET'), ('parque', 'NOUN'), ('.', 'PUNCT')]}\n"
          ]
        }
      ],
      "source": [
        "oracion_ejemplo = \"El gato negro salta alto y el perro corre rápido por el parque.\"\n",
        "resultado = analisis_morfologico(oracion_ejemplo)\n",
        "print(resultado)\n"
      ]
    }
  ],
  "metadata": {
    "colab": {
      "provenance": []
    },
    "kernelspec": {
      "display_name": "Python 3",
      "language": "python",
      "name": "python3"
    },
    "language_info": {
      "name": "python",
      "version": "3.x"
    }
  },
  "nbformat": 4,
  "nbformat_minor": 0
}
