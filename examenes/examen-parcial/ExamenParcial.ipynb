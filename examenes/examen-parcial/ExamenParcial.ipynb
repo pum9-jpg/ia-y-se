{
  "nbformat": 4,
  "nbformat_minor": 0,
  "metadata": {
    "colab": {
      "provenance": []
    },
    "kernelspec": {
      "name": "python3",
      "display_name": "Python 3"
    },
    "language_info": {
      "name": "python"
    }
  },
  "cells": [
    {
      "cell_type": "markdown",
      "source": [
        "# Examen: Análisis Morfológico con NLTK"
      ],
      "metadata": {
        "id": "Cu_wKe0Nm_V9"
      }
    },
    {
      "cell_type": "markdown",
      "source": [
        "## Instrucciones Generales\n",
        "1. Implemente la función solicitada en Google Colab\n",
        "2. Use únicamente las bibliotecas especificadas\n",
        "3. Comente su código adecuadamente\n",
        "4. Pruebe con los casos de prueba proporcionados\n",
        "5. Prepare un breve análisis de los resultados"
      ],
      "metadata": {
        "id": "2Jj6ydytnErM"
      }
    },
    {
      "cell_type": "markdown",
      "source": [
        "## Ejercicio practico: Análisis Morfológico\n",
        "\n",
        "### Enunciado Completo\n",
        "Implemente una función `analisis_morfologico(oracion)` que reciba una cadena de texto en español y retorne un diccionario con la siguiente información:\n",
        "\n",
        "\n",
        "- **total_tokens**: número total de tokens en la oración\n",
        "- **total_tipos**: número de tipos únicos (vocabulario)\n",
        "- **ratio_tt**: ratio tipo-token (tipos/tokens) redondeado a 3 decimales\n",
        "- **pos_tags**: lista de tuplas (palabra, etiqueta_POS) para cada token"
      ],
      "metadata": {
        "id": "tGL77zQAnOgr"
      }
    },
    {
      "cell_type": "markdown",
      "source": [
        "### Ejemplo de Entrada y Salida\n",
        "\n",
        "#### Entrada:\n",
        "```python\n",
        "oracion_ejemplo = \"El gato negro salta alto y el perro corre rápido por el parque.\"\n",
        "```"
      ],
      "metadata": {
        "id": "o44_910knYe4"
      }
    },
    {
      "cell_type": "markdown",
      "source": [
        "#### Salida esperada:\n",
        "```python\n",
        "{\n",
        "    'total_tokens': 13,\n",
        "    'total_tipos': 11,\n",
        "    'ratio_tt': 0.846,\n",
        "    'pos_tags': [\n",
        "        ('El', 'DET'), ('gato', 'NOUN'), ('negro', 'ADJ'),\n",
        "        ('salta', 'VERB'), ('alto', 'ADV'), ('y', 'CCONJ'),\n",
        "        ('el', 'DET'), ('perro', 'NOUN'), ('corre', 'VERB'),\n",
        "        ('rápido', 'ADJ'), ('por', 'ADP'), ('el', 'DET'),\n",
        "        ('parque', 'NOUN'), ('.', 'PUNCT')\n",
        "    ]\n",
        "}\n",
        "```"
      ],
      "metadata": {
        "id": "zteqa-o1n_qj"
      }
    },
    {
      "cell_type": "markdown",
      "source": [
        "1. Preparacion de entorno\n",
        "```\n",
        "import nltk\n",
        "nltk.download('punkt')\n",
        "nltk.download('averaged_perceptron_tagger_esp')\n",
        "```"
      ],
      "metadata": {
        "id": "ioVvocSMoFHR"
      }
    },
    {
      "cell_type": "code",
      "execution_count": 10,
      "metadata": {
        "colab": {
          "base_uri": "https://localhost:8080/"
        },
        "id": "Dw0VYDnkmNC1",
        "outputId": "ef7a68c9-bcd8-4212-c8d6-bf0dfbde40a9"
      },
      "outputs": [
        {
          "output_type": "stream",
          "name": "stderr",
          "text": [
            "[nltk_data] Downloading package punkt to /root/nltk_data...\n",
            "[nltk_data]   Package punkt is already up-to-date!\n",
            "[nltk_data] Downloading package punkt_tab to /root/nltk_data...\n",
            "[nltk_data]   Package punkt_tab is already up-to-date!\n",
            "[nltk_data] Downloading package averaged_perceptron_tagger to\n",
            "[nltk_data]     /root/nltk_data...\n",
            "[nltk_data]   Package averaged_perceptron_tagger is already up-to-\n",
            "[nltk_data]       date!\n",
            "[nltk_data] Downloading package averaged_perceptron_tagger_eng to\n",
            "[nltk_data]     /root/nltk_data...\n",
            "[nltk_data]   Unzipping taggers/averaged_perceptron_tagger_eng.zip.\n"
          ]
        },
        {
          "output_type": "execute_result",
          "data": {
            "text/plain": [
              "True"
            ]
          },
          "metadata": {},
          "execution_count": 10
        }
      ],
      "source": [
        "import nltk\n",
        "\n",
        "# Descargas necesarias\n",
        "nltk.download('punkt')\n",
        "nltk.download('punkt_tab')\n",
        "nltk.download('averaged_perceptron_tagger')\n",
        "nltk.download('averaged_perceptron_tagger_eng')"
      ]
    },
    {
      "cell_type": "code",
      "source": [
        "from nltk import word_tokenize, pos_tag\n",
        "\n",
        "def analisis_morfologico(oracion):\n",
        "    tokens = word_tokenize(oracion, language=\"spanish\")\n",
        "    pos_tags = pos_tag(tokens)  # usa el modelo en inglés\n",
        "\n",
        "    total_tokens = len(tokens)\n",
        "    total_tipos = len(set(tokens))\n",
        "    ratio_tt = round(total_tipos / total_tokens, 3)\n",
        "\n",
        "    return {\n",
        "        'total_tokens': total_tokens,\n",
        "        'total_tipos': total_tipos,\n",
        "        'ratio_tt': ratio_tt,\n",
        "        'pos_tags': pos_tags\n",
        "    }\n"
      ],
      "metadata": {
        "id": "WcywTcy9obQP"
      },
      "execution_count": 11,
      "outputs": []
    },
    {
      "cell_type": "code",
      "source": [
        "oracion_ejemplo = \"El gato negro salta alto y el perro corre rápido por el parque.\"\n",
        "resultado = analisis_morfologico(oracion_ejemplo)\n",
        "print(resultado)"
      ],
      "metadata": {
        "colab": {
          "base_uri": "https://localhost:8080/"
        },
        "id": "HNHgJzRRom0p",
        "outputId": "c71db816-ba9c-4a0b-e123-4ec9f3eb526b"
      },
      "execution_count": 12,
      "outputs": [
        {
          "output_type": "stream",
          "name": "stdout",
          "text": [
            "{'total_tokens': 14, 'total_tipos': 13, 'ratio_tt': 0.929, 'pos_tags': [('El', 'NNP'), ('gato', 'NN'), ('negro', 'NN'), ('salta', 'NN'), ('alto', 'VBP'), ('y', 'NN'), ('el', 'NN'), ('perro', 'NN'), ('corre', 'NN'), ('rápido', 'NN'), ('por', 'NN'), ('el', 'NN'), ('parque', 'NN'), ('.', '.')]}\n"
          ]
        }
      ]
    },
    {
      "cell_type": "markdown",
      "source": [
        "### Análisis de Resultados\n",
        "\n",
        "- La oración se partió en **14 tokens** (contando el punto al final).\n",
        "- De esos, **13 son diferentes** porque la palabra \"el\" se repite varias veces.\n",
        "- El **ratio tipo-token** salió **0.929**, lo que básicamente significa que casi todas las palabras son distintas.\n",
        "- El etiquetador POS de NLTK funciona, pero ojo: las etiquetas están en inglés (ej: NN = sustantivo, VB = verbo, JJ = adjetivo).\n",
        "- No es perfecto para español, pero igual sirve para practicar cómo se hace un análisis morfológico.\n",
        "- el código hace que podamos ver tokens, tipos y etiquetas POS.\n"
      ],
      "metadata": {
        "id": "DWG6zXHPq59H"
      }
    }
  ]
}