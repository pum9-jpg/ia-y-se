{
  "cells": [
    {
      "cell_type": "markdown",
      "metadata": {
        "id": "90ieJ7fClQps"
      },
      "source": [
        "# Examen Parcial - Análisis Morfológico con NLTK\n",
        "**Alumno:** Kevin Ramos  \n",
        "**Materia:** Procesamiento de Lenguaje Natural  \n",
        "**Herramienta:** Python + NLTK  \n"
      ]
    },
    {
      "cell_type": "markdown",
      "metadata": {
        "id": "wZM4HK2xlQpu"
      },
      "source": [
        "## 1. Preparación del Entorno\n",
        "\n",
        "Se importan las librerías y se descargan todos los paquetes de NLTK necesarios para el examen. Esto previene errores de recursos no encontrados."
      ]
    },
    {
      "cell_type": "code",
      "execution_count": null,
      "metadata": {
        "colab": {
          "base_uri": "https://localhost:8080/"
        },
        "id": "3YcOzHVJlQpu",
        "outputId": "3d62fb9b-4d92-4f7c-a9f5-1cb8a9981b2e"
      },
      "outputs": [
        {
          "output_type": "stream",
          "name": "stderr",
          "text": [
            "[nltk_data] Downloading package punkt to /content/nltk_data...\n",
            "[nltk_data]   Package punkt is already up-to-date!\n",
            "[nltk_data] Downloading package punkt_tab to /content/nltk_data...\n",
            "[nltk_data]   Package punkt_tab is already up-to-date!\n",
            "[nltk_data] Downloading package averaged_perceptron_tagger to\n",
            "[nltk_data]     /content/nltk_data...\n",
            "[nltk_data]   Package averaged_perceptron_tagger is already up-to-\n",
            "[nltk_data]       date!\n",
            "[nltk_data] Downloading package averaged_perceptron_tagger_eng to\n",
            "[nltk_data]     /content/nltk_data...\n",
            "[nltk_data]   Package averaged_perceptron_tagger_eng is already up-to-\n",
            "[nltk_data]       date!\n"
          ]
        },
        {
          "output_type": "execute_result",
          "data": {
            "text/plain": [
              "True"
            ]
          },
          "metadata": {},
          "execution_count": 7
        }
      ],
      "source": [
        "import nltk\n",
        "import os\n",
        "\n",
        "# Forzar ubicación accesible para NLTK\n",
        "nltk_data_dir = os.path.join(os.getcwd(), \"nltk_data\")\n",
        "if not os.path.exists(nltk_data_dir):\n",
        "    os.mkdir(nltk_data_dir)\n",
        "\n",
        "nltk.data.path.append(nltk_data_dir)\n",
        "\n",
        "# Descarga todos los recursos necesarios\n",
        "nltk.download('punkt', download_dir=nltk_data_dir)\n",
        "nltk.download('punkt_tab', download_dir=nltk_data_dir)\n",
        "nltk.download('averaged_perceptron_tagger', download_dir=nltk_data_dir)\n",
        "nltk.download('averaged_perceptron_tagger_eng', download_dir=nltk_data_dir)\n",
        "\n"
      ]
    },
    {
      "cell_type": "markdown",
      "metadata": {
        "id": "IzgXDiNLlQpv"
      },
      "source": [
        "## 2. Implementación de la función `analisis_morfologico(oracion)`"
      ]
    },
    {
      "cell_type": "code",
      "execution_count": null,
      "metadata": {
        "colab": {
          "base_uri": "https://localhost:8080/"
        },
        "id": "YE67PzSblQpv",
        "outputId": "cf4e1d40-380e-4bab-bf4a-819f376c22d4"
      },
      "outputs": [
        {
          "output_type": "stream",
          "name": "stdout",
          "text": [
            "{\n",
            "    \"total_tokens\": 14,\n",
            "    \"total_tipos\": 13,\n",
            "    \"ratio_tt\": 0.929,\n",
            "    \"pos_tags\": [\n",
            "        [\n",
            "            \"El\",\n",
            "            \"NNP\"\n",
            "        ],\n",
            "        [\n",
            "            \"gato\",\n",
            "            \"NN\"\n",
            "        ],\n",
            "        [\n",
            "            \"negro\",\n",
            "            \"NN\"\n",
            "        ],\n",
            "        [\n",
            "            \"salta\",\n",
            "            \"NN\"\n",
            "        ],\n",
            "        [\n",
            "            \"alto\",\n",
            "            \"VBP\"\n",
            "        ],\n",
            "        [\n",
            "            \"y\",\n",
            "            \"NN\"\n",
            "        ],\n",
            "        [\n",
            "            \"el\",\n",
            "            \"NN\"\n",
            "        ],\n",
            "        [\n",
            "            \"perro\",\n",
            "            \"NN\"\n",
            "        ],\n",
            "        [\n",
            "            \"corre\",\n",
            "            \"NN\"\n",
            "        ],\n",
            "        [\n",
            "            \"rápido\",\n",
            "            \"NN\"\n",
            "        ],\n",
            "        [\n",
            "            \"por\",\n",
            "            \"NN\"\n",
            "        ],\n",
            "        [\n",
            "            \"el\",\n",
            "            \"NN\"\n",
            "        ],\n",
            "        [\n",
            "            \"parque\",\n",
            "            \"NN\"\n",
            "        ],\n",
            "        [\n",
            "            \".\",\n",
            "            \".\"\n",
            "        ]\n",
            "    ]\n",
            "}\n"
          ]
        }
      ],
      "source": [
        "from nltk import word_tokenize, pos_tag\n",
        "import json\n",
        "\n",
        "def analisis_morfologico(oracion):\n",
        "    tokens = word_tokenize(oracion, language='spanish')\n",
        "    pos_tags = pos_tag(tokens)  # sin lang='esp'\n",
        "    total_tokens = len(tokens)\n",
        "    total_tipos = len(set(tokens))\n",
        "    ratio_tt = round(total_tipos / total_tokens, 3)\n",
        "    return {\n",
        "        'total_tokens': total_tokens,\n",
        "        'total_tipos': total_tipos,\n",
        "        'ratio_tt': ratio_tt,\n",
        "        'pos_tags': pos_tags\n",
        "    }\n",
        "\n",
        "# Ejemplo\n",
        "oracion_ejemplo = \"El gato negro salta alto y el perro corre rápido por el parque.\"\n",
        "resultado_ejemplo = analisis_morfologico(oracion_ejemplo)\n",
        "print(json.dumps(resultado_ejemplo, indent=4, ensure_ascii=False))\n"
      ]
    },
    {
      "cell_type": "markdown",
      "metadata": {
        "id": "R2_iWYV2lQpv"
      },
      "source": [
        "## 3. Pruebas y Resultados"
      ]
    },
    {
      "cell_type": "code",
      "execution_count": null,
      "metadata": {
        "colab": {
          "base_uri": "https://localhost:8080/"
        },
        "id": "CctEwWVzlQpv",
        "outputId": "5b3a656e-b323-4a93-b3b0-c33d34b92164"
      },
      "outputs": [
        {
          "output_type": "stream",
          "name": "stdout",
          "text": [
            "{\n",
            "    \"total_tokens\": 14,\n",
            "    \"total_tipos\": 13,\n",
            "    \"ratio_tt\": 0.929,\n",
            "    \"pos_tags\": [\n",
            "        [\n",
            "            \"El\",\n",
            "            \"NNP\"\n",
            "        ],\n",
            "        [\n",
            "            \"gato\",\n",
            "            \"NN\"\n",
            "        ],\n",
            "        [\n",
            "            \"negro\",\n",
            "            \"NN\"\n",
            "        ],\n",
            "        [\n",
            "            \"salta\",\n",
            "            \"NN\"\n",
            "        ],\n",
            "        [\n",
            "            \"alto\",\n",
            "            \"VBP\"\n",
            "        ],\n",
            "        [\n",
            "            \"y\",\n",
            "            \"NN\"\n",
            "        ],\n",
            "        [\n",
            "            \"el\",\n",
            "            \"NN\"\n",
            "        ],\n",
            "        [\n",
            "            \"perro\",\n",
            "            \"NN\"\n",
            "        ],\n",
            "        [\n",
            "            \"corre\",\n",
            "            \"NN\"\n",
            "        ],\n",
            "        [\n",
            "            \"rápido\",\n",
            "            \"NN\"\n",
            "        ],\n",
            "        [\n",
            "            \"por\",\n",
            "            \"NN\"\n",
            "        ],\n",
            "        [\n",
            "            \"el\",\n",
            "            \"NN\"\n",
            "        ],\n",
            "        [\n",
            "            \"parque\",\n",
            "            \"NN\"\n",
            "        ],\n",
            "        [\n",
            "            \".\",\n",
            "            \".\"\n",
            "        ]\n",
            "    ]\n",
            "}\n"
          ]
        }
      ],
      "source": [
        "from nltk import word_tokenize, pos_tag\n",
        "import json\n",
        "\n",
        "def analisis_morfologico(oracion):\n",
        "    tokens = word_tokenize(oracion, language='spanish')\n",
        "    pos_tags = pos_tag(tokens)  # sin lang='esp'\n",
        "    total_tokens = len(tokens)\n",
        "    total_tipos = len(set(tokens))\n",
        "    ratio_tt = round(total_tipos / total_tokens, 3)\n",
        "    return {\n",
        "        'total_tokens': total_tokens,\n",
        "        'total_tipos': total_tipos,\n",
        "        'ratio_tt': ratio_tt,\n",
        "        'pos_tags': pos_tags\n",
        "    }\n",
        "\n",
        "# Prueba\n",
        "oracion_ejemplo = \"El gato negro salta alto y el perro corre rápido por el parque.\"\n",
        "resultado_ejemplo = analisis_morfologico(oracion_ejemplo)\n",
        "print(json.dumps(resultado_ejemplo, indent=4, ensure_ascii=False))\n"
      ]
    }
  ],
  "metadata": {
    "colab": {
      "provenance": []
    },
    "kernelspec": {
      "display_name": "Python 3",
      "language": "python",
      "name": "python3"
    },
    "language_info": {
      "name": "python",
      "version": "3.12"
    }
  },
  "nbformat": 4,
  "nbformat_minor": 0
}