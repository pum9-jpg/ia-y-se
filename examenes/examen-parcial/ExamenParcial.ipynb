{
  "nbformat": 4,
  "nbformat_minor": 0,
  "metadata": {
    "colab": {
      "provenance": []
    },
    "kernelspec": {
      "name": "python3",
      "display_name": "Python 3"
    },
    "language_info": {
      "name": "python"
    }
  },
  "cells": [
    {
      "cell_type": "code",
      "source": [
        "import nltk\n",
        "nltk.download('punkt')\n",
        "nltk.download('averaged_perceptron_tagger_eng')\n",
        "nltk.download('universal_tagset')"
      ],
      "metadata": {
        "id": "ivxQ_OpVNVdz",
        "outputId": "54aa0e65-3fe3-465e-8c52-255b156ec245",
        "colab": {
          "base_uri": "https://localhost:8080/"
        }
      },
      "execution_count": 33,
      "outputs": [
        {
          "output_type": "stream",
          "name": "stderr",
          "text": [
            "[nltk_data] Downloading package punkt to /root/nltk_data...\n",
            "[nltk_data]   Package punkt is already up-to-date!\n",
            "[nltk_data] Downloading package averaged_perceptron_tagger_eng to\n",
            "[nltk_data]     /root/nltk_data...\n",
            "[nltk_data]   Unzipping taggers/averaged_perceptron_tagger_eng.zip.\n",
            "[nltk_data] Downloading package universal_tagset to /root/nltk_data...\n",
            "[nltk_data]   Package universal_tagset is already up-to-date!\n"
          ]
        },
        {
          "output_type": "execute_result",
          "data": {
            "text/plain": [
              "True"
            ]
          },
          "metadata": {},
          "execution_count": 33
        }
      ]
    },
    {
      "cell_type": "markdown",
      "source": [
        "# ⚠ La libreria nltk no es un modelo oficial para español\n",
        "Al no ser nativo para el idioma español, los cambios que hay en este afectan a las funciones al utilizarse en este mismo, por lo que:\n",
        "\n",
        "En lugar de usar la preparacion de entorno predeterminada:\n",
        "```python\n",
        "import nltk\n",
        "nltk.download('punkt')\n",
        "nltk.download('averaged_perceptron_tagger_esp')\n",
        "```\n",
        "Se usó:\n",
        "```python\n",
        "import nltk\n",
        "nltk.download('punkt')\n",
        "nltk.download('averaged_perceptron_tagger_eng')\n",
        "nltk.download('universal_tagset')\n",
        "```\n",
        " Añadiendo `universal_tagset` y modificando `averaged_perceptron_tagger_eng`"
      ],
      "metadata": {
        "id": "GhL5P_6IPn7f"
      }
    },
    {
      "cell_type": "code",
      "execution_count": 34,
      "metadata": {
        "colab": {
          "base_uri": "https://localhost:8080/"
        },
        "id": "um8mrJUfKjgS",
        "outputId": "18f471cf-d966-4729-e0fb-a2065080c07e"
      },
      "outputs": [
        {
          "output_type": "stream",
          "name": "stdout",
          "text": [
            "{'total_tokens': 14, 'total_tipos': 13, 'ratio_tt': 0.929, 'pos_tags': [('El', 'NOUN'), ('gato', 'NOUN'), ('negro', 'NOUN'), ('salta', 'NOUN'), ('alto', 'VERB'), ('y', 'NOUN'), ('el', 'NOUN'), ('perro', 'NOUN'), ('corre', 'NOUN'), ('rápido', 'NOUN'), ('por', 'NOUN'), ('el', 'NOUN'), ('parque', 'NOUN'), ('.', '.')]}\n"
          ]
        }
      ],
      "source": [
        "\n",
        "# ==========================\n",
        "# ⚙️ Función de análisis morfológico\n",
        "# ==========================\n",
        "def analisis_morfologico(oracion):\n",
        "    \"\"\"\n",
        "    Realiza análisis morfológico completo de una oración en español usando NLTK.\n",
        "\n",
        "    Args:\n",
        "        oracion (str): Texto en español a analizar.\n",
        "\n",
        "    Returns:\n",
        "        dict: Diccionario con tokens, tipos, ratio TT y POS tags.\n",
        "    \"\"\"\n",
        "    # Tokenización\n",
        "    tokens = nltk.word_tokenize(oracion, language='spanish')\n",
        "\n",
        "    # Etiquetado morfosintáctico (POS tagging)\n",
        "    pos_tags = nltk.pos_tag(tokens, tagset='universal')\n",
        "\n",
        "    # Cálculo de estadísticas\n",
        "    total_tokens = len(tokens)\n",
        "    total_tipos = len(set(tokens))\n",
        "    ratio_tt = round(total_tipos / total_tokens, 3)\n",
        "\n",
        "    # Construcción del resultado\n",
        "    resultado = {\n",
        "        'total_tokens': total_tokens,\n",
        "        'total_tipos': total_tipos,\n",
        "        'ratio_tt': ratio_tt,\n",
        "        'pos_tags': pos_tags\n",
        "    }\n",
        "\n",
        "    return resultado\n",
        "\n",
        "# ==========================\n",
        "# 🧪 Ejemplo de uso\n",
        "# ==========================\n",
        "oracion_ejemplo = \"El gato negro salta alto y el perro corre rápido por el parque.\"\n",
        "resultado = analisis_morfologico(oracion_ejemplo)\n",
        "\n",
        "print(resultado)\n",
        "\n"
      ]
    }
  ]
}