{
  "nbformat": 4,
  "nbformat_minor": 0,
  "metadata": {
    "colab": {
      "provenance": []
    },
    "kernelspec": {
      "name": "python3",
      "display_name": "Python 3"
    },
    "language_info": {
      "name": "python"
    }
  },
  "cells": [
    {
      "cell_type": "markdown",
      "source": [
        "## 🔽 Instalación de recursos NLTK\n",
        "Descargamos los recursos necesarios para el análisis morfosintáctico en español.\n"
      ],
      "metadata": {
        "id": "257j3ALd9fva"
      }
    },
    {
      "cell_type": "code",
      "source": [
        "import nltk\n",
        "from collections import Counter\n",
        "import json\n",
        "nltk.download('punkt')\n",
        "nltk.download('averaged_perceptron_tagger_eng')\n",
        "nltk.download('punkt_tab')"
      ],
      "metadata": {
        "colab": {
          "base_uri": "https://localhost:8080/"
        },
        "id": "A87F6eurTfrz",
        "outputId": "a5915d48-79ae-44e2-d913-b94e703d13a7"
      },
      "execution_count": 27,
      "outputs": [
        {
          "output_type": "stream",
          "name": "stderr",
          "text": [
            "[nltk_data] Downloading package punkt to /root/nltk_data...\n",
            "[nltk_data]   Package punkt is already up-to-date!\n",
            "[nltk_data] Downloading package averaged_perceptron_tagger_eng to\n",
            "[nltk_data]     /root/nltk_data...\n",
            "[nltk_data]   Package averaged_perceptron_tagger_eng is already up-to-\n",
            "[nltk_data]       date!\n",
            "[nltk_data] Downloading package punkt_tab to /root/nltk_data...\n",
            "[nltk_data]   Package punkt_tab is already up-to-date!\n"
          ]
        },
        {
          "output_type": "execute_result",
          "data": {
            "text/plain": [
              "True"
            ]
          },
          "metadata": {},
          "execution_count": 27
        }
      ]
    },
    {
      "cell_type": "markdown",
      "source": [
        "## 🚫 Manejo de Excepciones y Carga del Modelo\n",
        "Esta sección aborda el problema de cómo cargar el modelo de etiquetado en español"
      ],
      "metadata": {
        "id": "_JDL_FpVUrJN"
      }
    },
    {
      "cell_type": "code",
      "source": [
        "spanish_tagger = None\n",
        "try:\n",
        "    # Carga el recurso de etiquetado de español usando el nombre del archivo pickle.\n",
        "    spanish_tagger = nltk.data.load('taggers/averaged_perceptron_tagger_esp.pickle')\n",
        "except LookupError:\n",
        "    # Si falla la carga, indicamos el error.\n",
        "    print(\"Advertencia: No se pudo cargar el modelo de español.\")"
      ],
      "metadata": {
        "id": "h2x4oD_nU4eD"
      },
      "execution_count": 28,
      "outputs": []
    },
    {
      "cell_type": "markdown",
      "source": [
        "## 🧠 Lógica de la Función analisis_morfologico\n",
        "Aquí se implementan los cálculos y la lógica requerida por el enunciado."
      ],
      "metadata": {
        "id": "LTdMGpkcVCmI"
      }
    },
    {
      "cell_type": "code",
      "source": [
        "def analisis_morfologico(oracion: str) -> dict:\n",
        "    \"\"\"\n",
        "    Realiza análisis morfológico completo de una oración en español.\n",
        "\n",
        "    Args:\n",
        "        oracion (str): Texto en español a analizar\n",
        "\n",
        "    Returns:\n",
        "        dict: Diccionario con total_tokens, total_tipos, ratio_tt y pos_tags\n",
        "    \"\"\"\n",
        "    tokens = nltk.word_tokenize(oracion)\n",
        "    total_tokens = len(tokens)\n",
        "    tipos_unicos = set(tokens)\n",
        "    total_tipos = len(tipos_unicos)\n",
        "\n",
        "    if total_tokens > 0:\n",
        "        ratio_tt = round(total_tipos / total_tokens, 3)\n",
        "    else:\n",
        "        ratio_tt = 0.0\n",
        "\n",
        "    pos_tags = []\n",
        "\n",
        "    if spanish_tagger:\n",
        "        pos_tags = spanish_tagger.tag(tokens)\n",
        "\n",
        "    resultado = {\n",
        "      \"total_tokens\": total_tokens,\n",
        "      \"total_tipos\": total_tipos,\n",
        "      \"ratio_tt\": ratio_tt,\n",
        "      \"pos_tags\": pos_tags\n",
        "    }\n",
        "    return resultado"
      ],
      "metadata": {
        "id": "1VOv67ETTwrB"
      },
      "execution_count": 29,
      "outputs": []
    },
    {
      "cell_type": "markdown",
      "source": [
        "## 🖥️ Ejecución y Visualización del Resultado\n",
        "Esta sección ejecuta la función con la oración de prueba y muestra los resultados."
      ],
      "metadata": {
        "id": "Xy8xUJl6VKH-"
      }
    },
    {
      "cell_type": "code",
      "source": [
        "oracion_prueba = \"El gato negro salta alto y el perro corre rápido por el parque.\"\n",
        "\n",
        "analisis = analisis_morfologico(oracion_prueba)\n",
        "pos_tags_compacta = json.dumps(analisis[\"pos_tags\"], separators=(',', ':'))\n",
        "analisis_formato = analisis.copy()\n",
        "analisis_formato[\"pos_tags\"] = pos_tags_compacta\n",
        "salida_formateada = json.dumps(analisis_formato, indent=4, ensure_ascii=False)\n",
        "salida_final = salida_formateada.replace('\"[', '[').replace(']\"', ']')\n",
        "print(\"\\n--- RESULTADO DEL ANÁLISIS MORFOLÓGICO ---\")\n",
        "print(salida_final)\n",
        "#print(json.dumps(analisis, indent=1, ensure_ascii=False))"
      ],
      "metadata": {
        "colab": {
          "base_uri": "https://localhost:8080/"
        },
        "id": "uHzcABUCTy3X",
        "outputId": "c3a82add-cc3f-4ed0-e081-90393b2eeae8"
      },
      "execution_count": 30,
      "outputs": [
        {
          "output_type": "stream",
          "name": "stdout",
          "text": [
            "\n",
            "--- RESULTADO DEL ANÁLISIS MORFOLÓGICO ---\n",
            "{\n",
            "    \"total_tokens\": 14,\n",
            "    \"total_tipos\": 13,\n",
            "    \"ratio_tt\": 0.929,\n",
            "    \"pos_tags\": [[\\\"El\\\",\\\"NNP\\\"],[\\\"gato\\\",\\\"NN\\\"],[\\\"negro\\\",\\\"NN\\\"],[\\\"salta\\\",\\\"NN\\\"],[\\\"alto\\\",\\\"VBP\\\"],[\\\"y\\\",\\\"NN\\\"],[\\\"el\\\",\\\"NN\\\"],[\\\"perro\\\",\\\"NN\\\"],[\\\"corre\\\",\\\"NN\\\"],[\\\"r\\\\u00e1pido\\\",\\\"NN\\\"],[\\\"por\\\",\\\"NN\\\"],[\\\"el\\\",\\\"NN\\\"],[\\\"parque\\\",\\\"NN\\\"],[\\\".\\\",\\\".\\\"]]\n",
            "}\n"
          ]
        }
      ]
    }
  ]
}