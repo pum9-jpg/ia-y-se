{
  "nbformat": 4,
  "nbformat_minor": 0,
  "metadata": {
    "colab": {
      "provenance": []
    },
    "kernelspec": {
      "name": "python3",
      "display_name": "Python 3"
    },
    "language_info": {
      "name": "python"
    }
  },
  "cells": [
    {
      "cell_type": "code",
      "execution_count": 22,
      "metadata": {
        "colab": {
          "base_uri": "https://localhost:8080/"
        },
        "id": "YMT2BEKFIDOp",
        "outputId": "a95af772-1148-4abb-c7e2-e78b66da5d8f"
      },
      "outputs": [
        {
          "output_type": "stream",
          "name": "stderr",
          "text": [
            "[nltk_data] Downloading package punkt to /root/nltk_data...\n",
            "[nltk_data]   Package punkt is already up-to-date!\n",
            "[nltk_data] Downloading package cess_esp to /root/nltk_data...\n",
            "[nltk_data]   Package cess_esp is already up-to-date!\n"
          ]
        },
        {
          "output_type": "stream",
          "name": "stdout",
          "text": [
            "Entrenando modelo de etiquetado morfosintáctico en español...\n",
            "Modelo entrenado correctamente ✅\n",
            "\n",
            "=== RESULTADO DEL ANÁLISIS MORFOLÓGICO ===\n",
            "{ 'pos_tags': [ ('El', 'da0ms0'),\n",
            "                ('gato', 'ncms000'),\n",
            "                ('negro', 'aq0ms0'),\n",
            "                ('salta', 'UNK'),\n",
            "                ('alto', 'aq0ms0'),\n",
            "                ('y', 'cc'),\n",
            "                ('el', 'da0ms0'),\n",
            "                ('perro', 'ncms000'),\n",
            "                ('corre', 'vmip3s0'),\n",
            "                ('rápido', 'aq0ms0'),\n",
            "                ('por', 'sps00'),\n",
            "                ('el', 'da0ms0'),\n",
            "                ('parque', 'ncms000'),\n",
            "                ('.', 'Fp')],\n",
            "  'ratio_tt': 0.929,\n",
            "  'total_tipos': 13,\n",
            "  'total_tokens': 14}\n"
          ]
        }
      ],
      "source": [
        "\n",
        "import nltk\n",
        "from nltk.corpus import cess_esp\n",
        "from nltk import UnigramTagger\n",
        "from nltk.tokenize import word_tokenize\n",
        "import pprint\n",
        "\n",
        "nltk.download('punkt')\n",
        "nltk.download('cess_esp')\n",
        "\n",
        "\n",
        "print(\"Entrenando modelo de etiquetado morfosintáctico en español...\")\n",
        "tagged_sentences = cess_esp.tagged_sents()\n",
        "tagger = UnigramTagger(tagged_sentences)\n",
        "print(\"Modelo entrenado correctamente ✅\\n\")\n",
        "\n",
        "\n",
        "def analisis_morfologico(oracion):\n",
        "    \"\"\"\n",
        "    Realiza análisis morfológico completo de una oración en español.\n",
        "\n",
        "    Args:\n",
        "        oracion (str): Texto en español a analizar\n",
        "\n",
        "    Returns:\n",
        "        dict: Diccionario con total_tokens, total_tipos, ratio_tt y pos_tags\n",
        "    \"\"\"\n",
        "\n",
        "    tokens = word_tokenize(oracion, language='spanish')\n",
        "\n",
        "\n",
        "    tags = tagger.tag(tokens)\n",
        "\n",
        "\n",
        "    total_tokens = len(tokens)\n",
        "    total_tipos = len(set(tokens))\n",
        "    ratio_tt = round(total_tipos / total_tokens, 3) if total_tokens > 0 else 0\n",
        "\n",
        "\n",
        "    pos_tags = [(palabra, etiqueta if etiqueta else \"UNK\") for palabra, etiqueta in tags]\n",
        "\n",
        "    return {\n",
        "        'total_tokens': total_tokens,\n",
        "        'total_tipos': total_tipos,\n",
        "        'ratio_tt': ratio_tt,\n",
        "        'pos_tags': pos_tags\n",
        "    }\n",
        "\n",
        "\n",
        "oracion_ejemplo = \"El gato negro salta alto y el perro corre rápido por el parque.\"\n",
        "resultado = analisis_morfologico(oracion_ejemplo)\n",
        "\n",
        "\n",
        "print(\"=== RESULTADO DEL ANÁLISIS MORFOLÓGICO ===\")\n",
        "pp = pprint.PrettyPrinter(indent=2)\n",
        "pp.pprint(resultado)\n"
      ]
    },
    {
      "cell_type": "code",
      "source": [],
      "metadata": {
        "id": "DFuffEDkKWrv"
      },
      "execution_count": null,
      "outputs": []
    }
  ]
}