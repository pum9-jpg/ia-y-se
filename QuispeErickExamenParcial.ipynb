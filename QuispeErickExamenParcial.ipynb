{
  "nbformat": 4,
  "nbformat_minor": 0,
  "metadata": {
    "colab": {
      "name": "Analisis_Morfologico_SpaCy.ipynb",
      "provenance": []
    },
    "kernelspec": {
      "name": "python3",
      "display_name": "Python 3"
    }
  },
  "cells": [
    {
      "cell_type": "markdown",
      "metadata": {},
      "source": [
        "# 🧠 Análisis Morfológico en Español con spaCy\n",
        "Este cuaderno implementa un **análisis morfológico** siguiendo las instrucciones del enunciado original.\n",
        "- Tokenización\n",
        "- Tipos únicos\n",
        "- Ratio tipo-token\n",
        "- POS tagging (etiquetado gramatical)\n",
        "\n",
        "📌 *Compatible 100% con Google Colab*"
      ]
    },
    {
      "cell_type": "code",
      "metadata": {
        "id": "celda1"
      },
      "source": [
        "# 📦 Celda 1 — Preparar entorno\n",
        "!pip install -q spacy\n",
        "!python -m spacy download es_core_news_sm"
      ],
      "execution_count": null,
      "outputs": []
    },
    {
      "cell_type": "code",
      "metadata": {
        "id": "celda2"
      },
      "source": [
        "# 📚 Celda 2 — Importar librerías y cargar modelo\n",
        "import spacy\n",
        "nlp = spacy.load(\"es_core_news_sm\")"
      ],
      "execution_count": null,
      "outputs": []
    },
    {
      "cell_type": "code",
      "metadata": {
        "id": "celda3"
      },
      "source": [
        "# 🧮 Celda 3 — Definir la función analisis_morfologico()\n",
        "def analisis_morfologico(oracion):\n",
        "    \"\"\"\n",
        "    Realiza análisis morfológico completo de una oración en español.\n",
        "    \n",
        "    Args:\n",
        "        oracion (str): Texto en español a analizar.\n",
        "        \n",
        "    Returns:\n",
        "        dict: Diccionario con total de tokens, total de tipos,\n",
        "              ratio tipo-token y etiquetas POS.\n",
        "    \"\"\"\n",
        "    doc = nlp(oracion)\n",
        "    tokens = [token.text for token in doc]\n",
        "    total_tokens = len(tokens)\n",
        "    total_tipos = len(set(tokens))\n",
        "    ratio_tt = round(total_tipos / total_tokens, 3) if total_tokens > 0 else 0\n",
        "    pos_tags = [(token.text, token.pos_) for token in doc]\n",
        "\n",
        "    return {\n",
        "        'total_tokens': total_tokens,\n",
        "        'total_tipos': total_tipos,\n",
        "        'ratio_tt': ratio_tt,\n",
        "        'pos_tags': pos_tags\n",
        "    }"
      ],
      "execution_count": null,
      "outputs": []
    },
    {
      "cell_type": "code",
      "metadata": {
        "id": "celda4"
      },
      "source": [
        "# 🧪 Celda 4 — Caso de prueba\n",
        "oracion_ejemplo = \"El gato negro salta alto y el perro corre rápido por el parque.\"\n",
        "resultado = analisis_morfologico(oracion_ejemplo)\n",
        "print(\"📊 Resultado del análisis morfológico:\")\n",
        "print(resultado)"
      ],
      "execution_count": null,
      "outputs": []
    },
    {
      "cell_type": "code",
      "metadata": {
        "id": "celda5"
      },
      "source": [
        "# 📝 Celda 5 — Análisis de resultados más claro\n",
        "print(f\"Total de tokens: {resultado['total_tokens']}\")\n",
        "print(f\"Total de tipos: {resultado['total_tipos']}\")\n",
        "print(f\"Ratio tipo-token: {resultado['ratio_tt']}\\n\")\n",
        "\n",
        "print(\"Etiquetas POS:\")\n",
        "for palabra, etiqueta in resultado['pos_tags']:\n",
        "    print(f\"{palabra:15} ➝ {etiqueta}\")"
      ],
      "execution_count": null,
      "outputs": []
    }
  ]
}