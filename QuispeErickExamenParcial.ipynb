{
  "nbformat": 4,
  "nbformat_minor": 0,
  "metadata": {
    "colab": {
      "provenance": []
    },
    "kernelspec": {
      "name": "python3",
      "display_name": "Python 3"
    },
    "language_info": {
      "name": "python"
    }
  },
  "cells": [
    {
      "cell_type": "code",
      "source": [
        "!pip install -q spacy\n",
        "!python -m spacy download es_core_news_sm\n"
      ],
      "metadata": {
        "colab": {
          "base_uri": "https://localhost:8080/"
        },
        "id": "La7SKeahLI2B",
        "outputId": "56b8e0c3-7b5a-400d-9784-8c8265ec3350"
      },
      "execution_count": 26,
      "outputs": [
        {
          "output_type": "stream",
          "name": "stdout",
          "text": [
            "Collecting es-core-news-sm==3.8.0\n",
            "  Downloading https://github.com/explosion/spacy-models/releases/download/es_core_news_sm-3.8.0/es_core_news_sm-3.8.0-py3-none-any.whl (12.9 MB)\n",
            "\u001b[2K     \u001b[90m━━━━━━━━━━━━━━━━━━━━━━━━━━━━━━━━━━━━━━━━\u001b[0m \u001b[32m12.9/12.9 MB\u001b[0m \u001b[31m42.2 MB/s\u001b[0m eta \u001b[36m0:00:00\u001b[0m\n",
            "\u001b[?25h\u001b[38;5;2m✔ Download and installation successful\u001b[0m\n",
            "You can now load the package via spacy.load('es_core_news_sm')\n",
            "\u001b[38;5;3m⚠ Restart to reload dependencies\u001b[0m\n",
            "If you are in a Jupyter or Colab notebook, you may need to restart Python in\n",
            "order to load all the package's dependencies. You can do this by selecting the\n",
            "'Restart kernel' or 'Restart runtime' option.\n"
          ]
        }
      ]
    },
    {
      "cell_type": "code",
      "source": [
        "import spacy\n",
        "nlp = spacy.load(\"es_core_news_sm\")\n"
      ],
      "metadata": {
        "id": "HyDwY-b_LKQo"
      },
      "execution_count": 27,
      "outputs": []
    },
    {
      "cell_type": "code",
      "source": [
        "def analisis_morfologico(oracion):\n",
        "    \"\"\"\n",
        "    Realiza análisis morfológico completo de una oración en español.\n",
        "\n",
        "    Args:\n",
        "        oracion (str): Texto en español a analizar.\n",
        "\n",
        "    Returns:\n",
        "        dict: Diccionario con total de tokens, total de tipos,\n",
        "              ratio tipo-token y etiquetas POS.\n",
        "    \"\"\"\n",
        "    # Procesar el texto con spaCy\n",
        "    doc = nlp(oracion)\n",
        "\n",
        "    # Lista de tokens\n",
        "    tokens = [token.text for token in doc]\n",
        "\n",
        "    # Total de tokens\n",
        "    total_tokens = len(tokens)\n",
        "\n",
        "    # Total de tipos (únicos)\n",
        "    total_tipos = len(set(tokens))\n",
        "\n",
        "    # Ratio tipo-token (redondeado a 3 decimales)\n",
        "    ratio_tt = round(total_tipos / total_tokens, 3) if total_tokens > 0 else 0\n",
        "\n",
        "    # Etiquetas POS: lista de tuplas (palabra, etiqueta_POS)\n",
        "    pos_tags = [(token.text, token.pos_) for token in doc]\n",
        "\n",
        "    # Diccionario de resultados\n",
        "    resultado = {\n",
        "        'total_tokens': total_tokens,\n",
        "        'total_tipos': total_tipos,\n",
        "        'ratio_tt': ratio_tt,\n",
        "        'pos_tags': pos_tags\n",
        "    }\n",
        "\n",
        "    return resultado\n"
      ],
      "metadata": {
        "id": "mzgzU4OvLrwF"
      },
      "execution_count": 28,
      "outputs": []
    },
    {
      "cell_type": "code",
      "source": [
        "# Ejemplo de prueba\n",
        "oracion_ejemplo = \"El gato negro salta alto y el perro corre rápido por el parque.\"\n",
        "resultado = analisis_morfologico(oracion_ejemplo)\n",
        "\n",
        "print(\"📊 Resultado del análisis morfológico:\")\n",
        "print(resultado)\n"
      ],
      "metadata": {
        "colab": {
          "base_uri": "https://localhost:8080/"
        },
        "id": "9Q60riBuLvPW",
        "outputId": "43fbc078-c02e-4ce4-cc1d-a54299774dc6"
      },
      "execution_count": 29,
      "outputs": [
        {
          "output_type": "stream",
          "name": "stdout",
          "text": [
            "📊 Resultado del análisis morfológico:\n",
            "{'total_tokens': 14, 'total_tipos': 13, 'ratio_tt': 0.929, 'pos_tags': [('El', 'DET'), ('gato', 'NOUN'), ('negro', 'ADJ'), ('salta', 'NOUN'), ('alto', 'ADJ'), ('y', 'CCONJ'), ('el', 'DET'), ('perro', 'PROPN'), ('corre', 'VERB'), ('rápido', 'ADV'), ('por', 'ADP'), ('el', 'DET'), ('parque', 'NOUN'), ('.', 'PUNCT')]}\n"
          ]
        }
      ]
    },
    {
      "cell_type": "code",
      "source": [
        "# Imprimir resultados de forma clara\n",
        "print(f\"Total de tokens: {resultado['total_tokens']}\")\n",
        "print(f\"Total de tipos: {resultado['total_tipos']}\")\n",
        "print(f\"Ratio tipo-token: {resultado['ratio_tt']}\\n\")\n",
        "\n",
        "print(\"Etiquetas POS:\")\n",
        "for palabra, etiqueta in resultado['pos_tags']:\n",
        "    print(f\"{palabra:15} ➝ {etiqueta}\")\n"
      ],
      "metadata": {
        "colab": {
          "base_uri": "https://localhost:8080/"
        },
        "id": "ZC2_nEXoMCkH",
        "outputId": "1ba39625-a98e-4419-ce97-da8a384c394b"
      },
      "execution_count": 30,
      "outputs": [
        {
          "output_type": "stream",
          "name": "stdout",
          "text": [
            "Total de tokens: 14\n",
            "Total de tipos: 13\n",
            "Ratio tipo-token: 0.929\n",
            "\n",
            "Etiquetas POS:\n",
            "El              ➝ DET\n",
            "gato            ➝ NOUN\n",
            "negro           ➝ ADJ\n",
            "salta           ➝ NOUN\n",
            "alto            ➝ ADJ\n",
            "y               ➝ CCONJ\n",
            "el              ➝ DET\n",
            "perro           ➝ PROPN\n",
            "corre           ➝ VERB\n",
            "rápido          ➝ ADV\n",
            "por             ➝ ADP\n",
            "el              ➝ DET\n",
            "parque          ➝ NOUN\n",
            ".               ➝ PUNCT\n"
          ]
        }
      ]
    }
  ]
}