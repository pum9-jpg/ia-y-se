{
  "nbformat": 4,
  "nbformat_minor": 5,
  "metadata": {
    "colab": {
      "provenance": []
    },
    "language_info": {
      "name": "python"
    },
    "kernelspec": {
      "name": "python3",
      "display_name": "Python 3"
    }
  },
  "cells": [
    {
      "id": "38b2ab42",
      "cell_type": "markdown",
      "source": [
        "# 🧠 Análisis Morfológico en Español (versión mejorada)\n",
        "Este notebook realiza un análisis morfológico básico en español usando reglas manuales y NLTK. Incluye una solución al error `punkt_tab` y un etiquetador gramatical propio."
      ],
      "metadata": {
        "id": "38b2ab42"
      }
    },
    {
      "id": "f6166df7",
      "cell_type": "code",
      "metadata": {
        "colab": {
          "base_uri": "https://localhost:8080/"
        },
        "id": "f6166df7",
        "outputId": "7c763423-0bbd-4c08-86a4-9cc67e88cc82"
      },
      "execution_count": 1,
      "source": [
        "# -----------------------------\n",
        "# 🔹 IMPORTACIÓN DE LIBRERÍAS\n",
        "# -----------------------------\n",
        "import nltk\n",
        "import re\n",
        "\n",
        "# ✅ Descarga los recursos necesarios\n",
        "nltk.download('punkt')\n",
        "nltk.download('punkt_tab')  # Nuevo recurso necesario desde NLTK 3.8\n"
      ],
      "outputs": [
        {
          "output_type": "stream",
          "name": "stderr",
          "text": [
            "[nltk_data] Downloading package punkt to /root/nltk_data...\n",
            "[nltk_data]   Unzipping tokenizers/punkt.zip.\n",
            "[nltk_data] Downloading package punkt_tab to /root/nltk_data...\n",
            "[nltk_data]   Unzipping tokenizers/punkt_tab.zip.\n"
          ]
        },
        {
          "output_type": "execute_result",
          "data": {
            "text/plain": [
              "True"
            ]
          },
          "metadata": {},
          "execution_count": 1
        }
      ]
    },
    {
      "id": "4a3a0d7a",
      "cell_type": "code",
      "metadata": {
        "id": "4a3a0d7a"
      },
      "execution_count": 2,
      "source": [
        "# -----------------------------\n",
        "# 🔹 ETIQUETADOR BÁSICO EN ESPAÑOL\n",
        "# -----------------------------\n",
        "def etiquetar_espanol(tokens):\n",
        "    \"\"\"\n",
        "    Asigna etiquetas gramaticales simples (heurísticas) al español.\n",
        "    No usa modelos estadísticos, solo reglas básicas.\n",
        "    \"\"\"\n",
        "    etiquetas = []\n",
        "    for token in tokens:\n",
        "        palabra = token.lower()\n",
        "\n",
        "        # Reglas simples de identificación\n",
        "        if re.match(r'^[.!?,;:¿¡]$', palabra):\n",
        "            etiqueta = 'PUNCT'\n",
        "        elif palabra in ['el', 'la', 'los', 'las', 'un', 'una', 'unos', 'unas']:\n",
        "            etiqueta = 'DET'\n",
        "        elif palabra in ['y', 'o', 'pero', 'aunque', 'sino']:\n",
        "            etiqueta = 'CCONJ'\n",
        "        elif palabra in ['en', 'a', 'de', 'con', 'por', 'para', 'sin', 'sobre']:\n",
        "            etiqueta = 'ADP'\n",
        "        elif palabra.endswith('mente'):\n",
        "            etiqueta = 'ADV'\n",
        "        elif palabra.endswith(('ar', 'er', 'ir')):\n",
        "            etiqueta = 'VERB'\n",
        "        elif palabra.endswith(('ado', 'ada', 'ido', 'ida', 'ando', 'iendo')):\n",
        "            etiqueta = 'VERB'\n",
        "        elif palabra.endswith(('o', 'a', 'os', 'as')):\n",
        "            etiqueta = 'NOUN'\n",
        "        elif palabra.endswith(('al', 'ble', 'nte')):\n",
        "            etiqueta = 'ADJ'\n",
        "        else:\n",
        "            etiqueta = 'X'  # Desconocido\n",
        "\n",
        "        etiquetas.append((token, etiqueta))\n",
        "    return etiquetas\n"
      ],
      "outputs": []
    },
    {
      "id": "4897ae27",
      "cell_type": "code",
      "metadata": {
        "id": "4897ae27"
      },
      "execution_count": 3,
      "source": [
        "# -----------------------------\n",
        "# 🔹 FUNCIÓN PRINCIPAL\n",
        "# -----------------------------\n",
        "def analisis_morfologico(oracion):\n",
        "    \"\"\"\n",
        "    Realiza análisis morfológico completo con reglas en español.\n",
        "    \"\"\"\n",
        "    # 1️⃣ Tokenización\n",
        "    tokens = nltk.word_tokenize(oracion, language='spanish')\n",
        "\n",
        "    # 2️⃣ Conteo\n",
        "    total_tokens = len(tokens)\n",
        "    total_tipos = len(set(tokens))\n",
        "    ratio_tt = round(total_tipos / total_tokens, 3)\n",
        "\n",
        "    # 3️⃣ Etiquetado manual\n",
        "    pos_tags = etiquetar_espanol(tokens)\n",
        "\n",
        "    # 4️⃣ Resultado\n",
        "    return {\n",
        "        'total_tokens': total_tokens,\n",
        "        'total_tipos': total_tipos,\n",
        "        'ratio_tt': ratio_tt,\n",
        "        'pos_tags': pos_tags\n",
        "    }\n"
      ],
      "outputs": []
    },
    {
      "id": "ef48b680",
      "cell_type": "code",
      "metadata": {
        "colab": {
          "base_uri": "https://localhost:8080/"
        },
        "id": "ef48b680",
        "outputId": "f9801c25-eed9-4120-e45b-a4d2e3fb02d0"
      },
      "execution_count": 4,
      "source": [
        "# -----------------------------\n",
        "# 🔹 PRUEBA\n",
        "# -----------------------------\n",
        "oracion_ejemplo = \"El gato negro salta alto y el perro corre rápido por el parque.\"\n",
        "\n",
        "resultado = analisis_morfologico(oracion_ejemplo)\n",
        "\n",
        "print(\"🔍 RESULTADO DEL ANÁLISIS MORFOLÓGICO:\\n\")\n",
        "print(f\"Total de tokens: {resultado['total_tokens']}\")\n",
        "print(f\"Total de tipos únicos: {resultado['total_tipos']}\")\n",
        "print(f\"Ratio tipo-token: {resultado['ratio_tt']}\\n\")\n",
        "\n",
        "print(\"Etiquetas gramaticales (POS tags):\")\n",
        "for palabra, etiqueta in resultado['pos_tags']:\n",
        "    print(f\"{palabra:10} → {etiqueta}\")\n"
      ],
      "outputs": [
        {
          "output_type": "stream",
          "name": "stdout",
          "text": [
            "🔍 RESULTADO DEL ANÁLISIS MORFOLÓGICO:\n",
            "\n",
            "Total de tokens: 14\n",
            "Total de tipos únicos: 13\n",
            "Ratio tipo-token: 0.929\n",
            "\n",
            "Etiquetas gramaticales (POS tags):\n",
            "El         → DET\n",
            "gato       → NOUN\n",
            "negro      → NOUN\n",
            "salta      → NOUN\n",
            "alto       → NOUN\n",
            "y          → CCONJ\n",
            "el         → DET\n",
            "perro      → NOUN\n",
            "corre      → X\n",
            "rápido     → VERB\n",
            "por        → ADP\n",
            "el         → DET\n",
            "parque     → X\n",
            ".          → PUNCT\n"
          ]
        }
      ]
    },
    {
      "id": "d6496456",
      "cell_type": "markdown",
      "source": [
        "# 🔍 Análisis de Resultados\n",
        "- **total_tokens**: número total de palabras y signos.\n",
        "- **total_tipos**: número de palabras únicas.\n",
        "- **ratio_tt**: mide la diversidad léxica.\n",
        "- **pos_tags**: muestra las etiquetas gramaticales generadas por las reglas.\n",
        "\n",
        "**Ejemplo de etiquetas comunes:**\n",
        "- DET → Determinante\n",
        "- NOUN → Sustantivo\n",
        "- ADJ → Adjetivo\n",
        "- VERB → Verbo\n",
        "- ADV → Adverbio\n",
        "- ADP → Preposición\n",
        "- CCONJ → Conjunción\n",
        "- PUNCT → Signo de puntuación\n",
        "- X → Desconocido"
      ],
      "metadata": {
        "id": "d6496456"
      }
    }
  ]
}