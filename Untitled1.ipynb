{
  "nbformat": 4,
  "nbformat_minor": 0,
  "metadata": {
    "colab": {
      "provenance": []
    },
    "kernelspec": {
      "name": "python3",
      "display_name": "Python 3"
    },
    "language_info": {
      "name": "python"
    }
  },
  "cells": [
    {
      "cell_type": "code",
      "execution_count": 2,
      "metadata": {
        "colab": {
          "base_uri": "https://localhost:8080/",
          "height": 280
        },
        "id": "YnJ4sH8zcYy6",
        "outputId": "619fa4f3-a770-4be8-f123-3d39080e488e"
      },
      "outputs": [
        {
          "output_type": "stream",
          "name": "stderr",
          "text": [
            "[nltk_data] Downloading package punkt to /root/nltk_data...\n",
            "[nltk_data]   Package punkt is already up-to-date!\n",
            "[nltk_data] Downloading package punkt_tab to /root/nltk_data...\n",
            "[nltk_data]   Package punkt_tab is already up-to-date!\n",
            "[nltk_data] Downloading package cess_esp to /root/nltk_data...\n",
            "[nltk_data]   Package cess_esp is already up-to-date!\n"
          ]
        },
        {
          "output_type": "error",
          "ename": "NameError",
          "evalue": "name 'oracion_nueva' is not defined",
          "traceback": [
            "\u001b[0;31m---------------------------------------------------------------------------\u001b[0m",
            "\u001b[0;31mNameError\u001b[0m                                 Traceback (most recent call last)",
            "\u001b[0;32m/tmp/ipython-input-1998383248.py\u001b[0m in \u001b[0;36m<cell line: 0>\u001b[0;34m()\u001b[0m\n\u001b[1;32m     31\u001b[0m     }\n\u001b[1;32m     32\u001b[0m     \u001b[0moracion_nueva\u001b[0m \u001b[0;34m=\u001b[0m \u001b[0;34m\"El perro corre rápidamente por el parque mientras los niños juegan con la pelota.\"\u001b[0m\u001b[0;34m\u001b[0m\u001b[0;34m\u001b[0m\u001b[0m\n\u001b[0;32m---> 33\u001b[0;31m \u001b[0mprint\u001b[0m\u001b[0;34m(\u001b[0m\u001b[0manalisis_morfologico\u001b[0m\u001b[0;34m(\u001b[0m\u001b[0moracion_nueva\u001b[0m\u001b[0;34m)\u001b[0m\u001b[0;34m)\u001b[0m\u001b[0;34m\u001b[0m\u001b[0;34m\u001b[0m\u001b[0m\n\u001b[0m",
            "\u001b[0;31mNameError\u001b[0m: name 'oracion_nueva' is not defined"
          ]
        }
      ],
      "source": [
        "!pip install -q nltk\n",
        "import nltk\n",
        "nltk.download('punkt')\n",
        "nltk.download('punkt_tab')\n",
        "nltk.download('cess_esp')   # corpus UD español\n",
        "from nltk import word_tokenize\n",
        "from nltk.corpus import cess_esp\n",
        "from nltk.tag import UnigramTagger\n",
        "\n",
        "# entrenamos un tagger con el corpus español\n",
        "tagger = UnigramTagger(cess_esp.tagged_sents())\n",
        "\n",
        "def analisis_morfologico(oracion):\n",
        "    \"\"\"\n",
        "    Realiza análisis morfológico completo de una oración en español.\n",
        "    Args:\n",
        "        oracion (str): Texto en español a analizar\n",
        "    Returns:\n",
        "        dict: tokens, tipos, ratio TT y POS tags\n",
        "    \"\"\"\n",
        "    tokens = word_tokenize(oracion, language='spanish')\n",
        "    total_tokens = len(tokens)\n",
        "    total_tipos  = len(set(tokens))          # case-sensitive\n",
        "    ratio_tt     = round(total_tipos / total_tokens, 3)\n",
        "    pos_tags     = tagger.tag(tokens)\n",
        "    return {\n",
        "        'total_tokens': total_tokens,\n",
        "        'total_tipos':  total_tipos,\n",
        "        'ratio_tt':     ratio_tt,\n",
        "        'pos_tags':     pos_tags\n",
        "    }\n",
        "    oracion_nueva = \"El perro corre rápidamente por el parque mientras los niños juegan con la pelota.\"\n",
        "print(analisis_morfologico(oracion_nueva))"
      ]
    }
  ]
}