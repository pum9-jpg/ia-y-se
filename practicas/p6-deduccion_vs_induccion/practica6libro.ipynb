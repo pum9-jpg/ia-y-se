{
  "nbformat": 4,
  "nbformat_minor": 0,
  "metadata": {
    "colab": {
      "provenance": []
    },
    "kernelspec": {
      "name": "python3",
      "display_name": "Python 3"
    },
    "language_info": {
      "name": "python"
    }
  },
  "cells": [
    {
      "cell_type": "code",
      "source": [
        "# ----------------------------------------------------------\n",
        "# 🧩 Unidad 4 - Parte 1: Sistema de Razonamiento Deductivo\n",
        "# ----------------------------------------------------------\n",
        "# Este ejemplo ilustra el razonamiento deductivo:\n",
        "# - Parte de reglas generales (conocimiento del experto)\n",
        "# - Aplica esas reglas a hechos específicos\n",
        "# - Obtiene conclusiones lógicamente garantizadas (Modus Ponens)\n",
        "# ----------------------------------------------------------\n",
        "\n",
        "class SistemaExpertoDeductivo:\n",
        "    def __init__(self, reglas):\n",
        "        self.reglas = reglas\n",
        "\n",
        "    def razonar(self, hechos):\n",
        "        \"\"\"Aplica las reglas generales sobre los hechos conocidos.\"\"\"\n",
        "        hechos_deducidos = set(hechos)\n",
        "        nuevos_hechos_encontrados = True\n",
        "\n",
        "        while nuevos_hechos_encontrados:\n",
        "            nuevos_hechos_encontrados = False\n",
        "            for regla in self.reglas:\n",
        "                condiciones = set(regla[\"si\"])\n",
        "                conclusion = regla[\"entonces\"]\n",
        "\n",
        "                # Si todas las condiciones están en los hechos deducidos, aplicamos la regla\n",
        "                if condiciones.issubset(hechos_deducidos) and conclusion not in hechos_deducidos:\n",
        "                    hechos_deducidos.add(conclusion)\n",
        "                    nuevos_hechos_encontrados = True\n",
        "\n",
        "        return hechos_deducidos\n",
        "\n",
        "\n",
        "# --- Base de conocimiento: reglas generales ---\n",
        "reglas_animales = [\n",
        "    {\"si\": [\"tiene_plumas\"], \"entonces\": \"es_ave\"},\n",
        "    {\"si\": [\"es_ave\", \"canta\"], \"entonces\": \"es_canario\"},\n",
        "    {\"si\": [\"pone_huevos\", \"vive_en_agua\"], \"entonces\": \"es_pez\"},\n",
        "    {\"si\": [\"es_ave\", \"vuela_bien\"], \"entonces\": \"es_pajaro\"},\n",
        "]\n",
        "\n",
        "# --- Caso de uso ---\n",
        "hechos_especificos = {\"vive_en_agua\", \"pone_huevos\"}\n",
        "\n",
        "sistema_deductivo = SistemaExpertoDeductivo(reglas_animales)\n",
        "conclusiones = sistema_deductivo.razonar(hechos_especificos)\n",
        "\n",
        "print(\"🧠 Sistema de Razonamiento Deductivo\")\n",
        "print(f\"Hechos iniciales: {hechos_especificos}\")\n",
        "print(f\"Hechos deducidos: {conclusiones}\")\n",
        "print(f\"Conclusión final: El animal es un '{next(c for c in conclusiones if c.startswith('es_'))}'\")\n"
      ],
      "metadata": {
        "colab": {
          "base_uri": "https://localhost:8080/"
        },
        "id": "drvuf7Zmv6ez",
        "outputId": "0fe88e3a-2420-434d-e39f-edfbf83d9d83"
      },
      "execution_count": 14,
      "outputs": [
        {
          "output_type": "stream",
          "name": "stdout",
          "text": [
            "🧠 Sistema de Razonamiento Deductivo\n",
            "Hechos iniciales: {'pone_huevos', 'vive_en_agua'}\n",
            "Hechos deducidos: {'es_pez', 'pone_huevos', 'vive_en_agua'}\n",
            "Conclusión final: El animal es un 'es_pez'\n"
          ]
        }
      ]
    },
    {
      "cell_type": "code",
      "execution_count": 11,
      "metadata": {
        "colab": {
          "base_uri": "https://localhost:8080/"
        },
        "id": "1UpsTtnnr0Xz",
        "outputId": "121af8a5-90fb-401f-8794-4fe0f7a08c64"
      },
      "outputs": [
        {
          "output_type": "stream",
          "name": "stdout",
          "text": [
            "🌱 Sistema de Razonamiento Inductivo\n",
            "\n",
            "Reglas que el sistema INDUJO a partir de los ejemplos:\n",
            "\n",
            "|--- tiene_plumas <= 0.50\n",
            "|   |--- class: pez\n",
            "|--- tiene_plumas >  0.50\n",
            "|   |--- vuela_bien <= 0.50\n",
            "|   |   |--- class: ave_no_voladora\n",
            "|   |--- vuela_bien >  0.50\n",
            "|   |   |--- canta <= 0.50\n",
            "|   |   |   |--- class: pajaro\n",
            "|   |   |--- canta >  0.50\n",
            "|   |   |   |--- class: canario\n",
            "\n",
            "\n",
            "Clasificando un animal nuevo con características [Plumas=Sí, Canta=Sí, Vuela=Sí].\n",
            "Conclusión probable: El animal es un 'pez'\n"
          ]
        }
      ],
      "source": [
        "# ----------------------------------------------------------\n",
        "# 🧠 Unidad 4 - Parte 2: Sistema de Razonamiento Inductivo\n",
        "# ----------------------------------------------------------\n",
        "# Este ejemplo ilustra la inducción:\n",
        "# - No hay reglas predefinidas\n",
        "# - A partir de ejemplos específicos, el sistema \"aprende\" una regla general\n",
        "# ----------------------------------------------------------\n",
        "\n",
        "import pandas as pd\n",
        "from sklearn.tree import DecisionTreeClassifier, export_text\n",
        "\n",
        "# - Datos (Observaciones Específicas) -\n",
        "datos_animales = [\n",
        "    {'nombre': 'paloma', 'tiene_plumas': 1, 'canta': 0, 'vuela_bien': 1, 'clase': 'pajaro'},\n",
        "    {'nombre': 'canario', 'tiene_plumas': 1, 'canta': 1, 'vuela_bien': 1, 'clase': 'canario'},\n",
        "    {'nombre': 'gallina', 'tiene_plumas': 1, 'canta': 0, 'vuela_bien': 0, 'clase': 'ave_no_voladora'},\n",
        "    {'nombre': 'pez_dorado', 'tiene_plumas': 0, 'canta': 0, 'vuela_bien': 0, 'clase': 'pez'},\n",
        "    {'nombre': 'salmon', 'tiene_plumas': 0, 'canta': 0, 'vuela_bien': 0, 'clase': 'pez'},\n",
        "]\n",
        "\n",
        "# Convertimos los datos a DataFrame\n",
        "df = pd.DataFrame(datos_animales)\n",
        "features = ['tiene_plumas', 'canta', 'vuela_bien']\n",
        "X = df[features]      # Características (los \"hechos\")\n",
        "y = df['clase']       # Etiqueta (la \"conclusión\")\n",
        "\n",
        "# - Proceso de Inducción (Aprendizaje) -\n",
        "modelo_inductivo = DecisionTreeClassifier(random_state=0)\n",
        "modelo_inductivo.fit(X, y)  # Aquí el modelo aprende las reglas de los datos.\n",
        "\n",
        "# - Resultados: Las Reglas \"Aprendidas\" -\n",
        "reglas_aprendidas = export_text(modelo_inductivo, feature_names=features)\n",
        "print(\"🌱 Sistema de Razonamiento Inductivo\")\n",
        "print(\"\\nReglas que el sistema INDUJO a partir de los ejemplos:\\n\")\n",
        "print(reglas_aprendidas)\n",
        "\n",
        "# - Caso de Uso -\n",
        "# Clasificamos un animal nuevo: [tiene_plumas=1, canta=1, vuela_bien=1]\n",
        "animal_nuevo = pd.DataFrame([[0, 0, 1]], columns=features)\n",
        "prediccion = modelo_inductivo.predict(animal_nuevo)\n",
        "\n",
        "print(f\"\\nClasificando un animal nuevo con características [Plumas=Sí, Canta=Sí, Vuela=Sí].\")\n",
        "print(f\"Conclusión probable: El animal es un '{prediccion[0]}'\")\n"
      ]
    }
  ]
}