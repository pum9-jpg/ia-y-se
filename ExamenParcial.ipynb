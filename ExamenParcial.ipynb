{
  "cells": [
    {
      "cell_type": "markdown",
      "id": "64fcb507",
      "metadata": {
        "id": "64fcb507"
      },
      "source": [
        "## Ejercicio práctico: Análisis Morfológico"
      ]
    },
    {
      "cell_type": "markdown",
      "id": "1f5ea816",
      "metadata": {
        "id": "1f5ea816"
      },
      "source": [
        "\n",
        "### Enunciado Completo\n",
        "\n",
        "Implemente una función `analisis_morfologico(oracion)` que reciba una cadena de texto en español y retorne un diccionario con la siguiente información:\n",
        "\n",
        "- **total_tokens**: número total de tokens en la oración  \n",
        "- **total_tipos**: número de tipos únicos (vocabulario)  \n",
        "- **ratio_tt**: ratio tipo-token (tipos/tokens) redondeado a 3 decimales  \n",
        "- **pos_tags**: lista de tuplas (palabra, etiqueta_POS) para cada token\n",
        "\n",
        "#### Ejemplo de Entrada y Salida\n",
        "\n",
        "**Entrada:**\n",
        "```python\n",
        "oracion_ejemplo = \"El gato negro salta alto y el perro corre rápido por el parque.\"\n",
        "```\n",
        "\n",
        "**Salida esperada:**\n",
        "```python\n",
        "{\n",
        " 'total_tokens': 13,\n",
        " 'total_tipos': 11,\n",
        " 'ratio_tt': 0.846,\n",
        " 'pos_tags': [\n",
        "   ('El', 'DET'), ('gato', 'NOUN'), ('negro', 'ADJ'), ('salta', 'VERB'), ('alto', 'ADV'),\n",
        "   ('y', 'CCONJ'), ('el', 'DET'), ('perro', 'NOUN'), ('corre', 'VERB'), ('rápido', 'ADJ'),\n",
        "   ('por', 'ADP'), ('el', 'DET'), ('parque', 'NOUN'), ('.', 'PUNCT')\n",
        " ]\n",
        "}\n",
        "```\n",
        "    "
      ]
    },
    {
      "cell_type": "markdown",
      "id": "40a398a2",
      "metadata": {
        "id": "40a398a2"
      },
      "source": [
        "### 1. Preparación del entorno"
      ]
    },
    {
      "cell_type": "code",
      "source": [
        "!pip install -q spacy\n",
        "!python -m spacy download es_core_news_sm\n"
      ],
      "metadata": {
        "colab": {
          "base_uri": "https://localhost:8080/"
        },
        "id": "Ne-TJ7FcJpOA",
        "outputId": "071d6ea7-001e-4925-a72c-58f28870cd2b"
      },
      "id": "Ne-TJ7FcJpOA",
      "execution_count": 17,
      "outputs": [
        {
          "output_type": "stream",
          "name": "stdout",
          "text": [
            "Collecting es-core-news-sm==3.8.0\n",
            "  Downloading https://github.com/explosion/spacy-models/releases/download/es_core_news_sm-3.8.0/es_core_news_sm-3.8.0-py3-none-any.whl (12.9 MB)\n",
            "\u001b[2K     \u001b[90m━━━━━━━━━━━━━━━━━━━━━━━━━━━━━━━━━━━━━━━━\u001b[0m \u001b[32m12.9/12.9 MB\u001b[0m \u001b[31m94.1 MB/s\u001b[0m eta \u001b[36m0:00:00\u001b[0m\n",
            "\u001b[?25hInstalling collected packages: es-core-news-sm\n",
            "Successfully installed es-core-news-sm-3.8.0\n",
            "\u001b[38;5;2m✔ Download and installation successful\u001b[0m\n",
            "You can now load the package via spacy.load('es_core_news_sm')\n",
            "\u001b[38;5;3m⚠ Restart to reload dependencies\u001b[0m\n",
            "If you are in a Jupyter or Colab notebook, you may need to restart Python in\n",
            "order to load all the package's dependencies. You can do this by selecting the\n",
            "'Restart kernel' or 'Restart runtime' option.\n"
          ]
        }
      ]
    },
    {
      "cell_type": "markdown",
      "id": "5e860c90",
      "metadata": {
        "id": "5e860c90"
      },
      "source": [
        "### 2. Implementación de la función"
      ]
    },
    {
      "cell_type": "code",
      "execution_count": 18,
      "id": "afd21f93",
      "metadata": {
        "id": "afd21f93"
      },
      "outputs": [],
      "source": [
        "import spacy\n",
        "\n",
        "# Cargar modelo en español\n",
        "nlp = spacy.load(\"es_core_news_sm\")\n",
        "\n",
        "def analisis_morfologico(oracion):\n",
        "    \"\"\"\n",
        "    Realiza análisis morfológico completo de una oración en español.\n",
        "\n",
        "    Args:\n",
        "        oracion (str): Texto en español a analizar.\n",
        "\n",
        "    Returns:\n",
        "        dict: Diccionario con tokens, tipos, ratio TT y POS tags.\n",
        "    \"\"\"\n",
        "    doc = nlp(oracion)\n",
        "\n",
        "    tokens = [token.text for token in doc]\n",
        "    pos_tags = [(token.text, token.pos_) for token in doc]\n",
        "\n",
        "    total_tokens = len(tokens)\n",
        "    total_tipos = len(set(tokens))\n",
        "    ratio_tt = round(total_tipos / total_tokens, 3)\n",
        "\n",
        "    return {\n",
        "        'total_tokens': total_tokens,\n",
        "        'total_tipos': total_tipos,\n",
        "        'ratio_tt': ratio_tt,\n",
        "        'pos_tags': pos_tags\n",
        "    }\n"
      ]
    },
    {
      "cell_type": "markdown",
      "id": "cf9c4d5c",
      "metadata": {
        "id": "cf9c4d5c"
      },
      "source": [
        "### 3. Ejemplo de uso"
      ]
    },
    {
      "cell_type": "code",
      "execution_count": 19,
      "id": "167a5104",
      "metadata": {
        "colab": {
          "base_uri": "https://localhost:8080/"
        },
        "id": "167a5104",
        "outputId": "d6fcb991-2a89-4b51-a02b-f036b3f54bbf"
      },
      "outputs": [
        {
          "output_type": "stream",
          "name": "stdout",
          "text": [
            "{'total_tokens': 14, 'total_tipos': 13, 'ratio_tt': 0.929, 'pos_tags': [('El', 'DET'), ('gato', 'NOUN'), ('negro', 'ADJ'), ('salta', 'NOUN'), ('alto', 'ADJ'), ('y', 'CCONJ'), ('el', 'DET'), ('perro', 'PROPN'), ('corre', 'VERB'), ('rápido', 'ADV'), ('por', 'ADP'), ('el', 'DET'), ('parque', 'NOUN'), ('.', 'PUNCT')]}\n"
          ]
        }
      ],
      "source": [
        "oracion_ejemplo = \"El gato negro salta alto y el perro corre rápido por el parque.\"\n",
        "resultado = analisis_morfologico(oracion_ejemplo)\n",
        "print(resultado)\n"
      ]
    }
  ],
  "metadata": {
    "colab": {
      "provenance": []
    },
    "language_info": {
      "name": "python"
    },
    "kernelspec": {
      "name": "python3",
      "display_name": "Python 3"
    }
  },
  "nbformat": 4,
  "nbformat_minor": 5
}